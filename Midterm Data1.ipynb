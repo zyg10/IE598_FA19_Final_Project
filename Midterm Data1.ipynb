{
 "cells": [
  {
   "cell_type": "code",
   "execution_count": 2,
   "metadata": {},
   "outputs": [],
   "source": [
    "import numpy as np\n",
    "import pandas as pd\n",
    "import seaborn as sns\n",
    "import matplotlib.pyplot as plt\n",
    "import statsmodels as stat"
   ]
  },
  {
   "cell_type": "code",
   "execution_count": 3,
   "metadata": {},
   "outputs": [
    {
     "data": {
      "text/plain": [
       "(1700, 28)"
      ]
     },
     "execution_count": 3,
     "metadata": {},
     "output_type": "execute_result"
    }
   ],
   "source": [
    "df1 = pd.read_csv('MLF_GP1_CreditScore.csv', header=0)\n",
    "df1.shape"
   ]
  },
  {
   "cell_type": "code",
   "execution_count": 4,
   "metadata": {},
   "outputs": [
    {
     "data": {
      "text/html": [
       "<div>\n",
       "<style scoped>\n",
       "    .dataframe tbody tr th:only-of-type {\n",
       "        vertical-align: middle;\n",
       "    }\n",
       "\n",
       "    .dataframe tbody tr th {\n",
       "        vertical-align: top;\n",
       "    }\n",
       "\n",
       "    .dataframe thead th {\n",
       "        text-align: right;\n",
       "    }\n",
       "</style>\n",
       "<table border=\"1\" class=\"dataframe\">\n",
       "  <thead>\n",
       "    <tr style=\"text-align: right;\">\n",
       "      <th></th>\n",
       "      <th>Sales/Revenues</th>\n",
       "      <th>Gross Margin</th>\n",
       "      <th>EBITDA</th>\n",
       "      <th>EBITDA Margin</th>\n",
       "      <th>Net Income Before Extras</th>\n",
       "      <th>Total Debt</th>\n",
       "      <th>Net Debt</th>\n",
       "      <th>LT Debt</th>\n",
       "      <th>ST Debt</th>\n",
       "      <th>Cash</th>\n",
       "      <th>...</th>\n",
       "      <th>Interest Coverage</th>\n",
       "      <th>Total Liquidity</th>\n",
       "      <th>Current Liquidity</th>\n",
       "      <th>Current Liabilities</th>\n",
       "      <th>EPS Before Extras</th>\n",
       "      <th>PE</th>\n",
       "      <th>ROA</th>\n",
       "      <th>ROE</th>\n",
       "      <th>InvGrd</th>\n",
       "      <th>Rating</th>\n",
       "    </tr>\n",
       "  </thead>\n",
       "  <tbody>\n",
       "    <tr>\n",
       "      <td>0</td>\n",
       "      <td>-0.005496</td>\n",
       "      <td>0.030763</td>\n",
       "      <td>0.018885</td>\n",
       "      <td>0.024515</td>\n",
       "      <td>0.146849</td>\n",
       "      <td>-0.029710</td>\n",
       "      <td>-0.019296</td>\n",
       "      <td>-0.042648</td>\n",
       "      <td>0.049875</td>\n",
       "      <td>-0.133716</td>\n",
       "      <td>...</td>\n",
       "      <td>0.136748</td>\n",
       "      <td>0.392143</td>\n",
       "      <td>-0.184887</td>\n",
       "      <td>0.062781</td>\n",
       "      <td>0.148305</td>\n",
       "      <td>0.100409</td>\n",
       "      <td>0.163266</td>\n",
       "      <td>0.102521</td>\n",
       "      <td>1</td>\n",
       "      <td>A1</td>\n",
       "    </tr>\n",
       "    <tr>\n",
       "      <td>1</td>\n",
       "      <td>-0.005496</td>\n",
       "      <td>0.030763</td>\n",
       "      <td>0.088716</td>\n",
       "      <td>0.094733</td>\n",
       "      <td>0.146849</td>\n",
       "      <td>-0.029710</td>\n",
       "      <td>-0.019296</td>\n",
       "      <td>-0.042648</td>\n",
       "      <td>0.049875</td>\n",
       "      <td>-0.133716</td>\n",
       "      <td>...</td>\n",
       "      <td>0.214657</td>\n",
       "      <td>0.392143</td>\n",
       "      <td>-0.184887</td>\n",
       "      <td>0.062781</td>\n",
       "      <td>0.148305</td>\n",
       "      <td>-0.089598</td>\n",
       "      <td>0.163266</td>\n",
       "      <td>0.102521</td>\n",
       "      <td>1</td>\n",
       "      <td>A1</td>\n",
       "    </tr>\n",
       "    <tr>\n",
       "      <td>2</td>\n",
       "      <td>-0.007045</td>\n",
       "      <td>0.023159</td>\n",
       "      <td>0.088716</td>\n",
       "      <td>0.096440</td>\n",
       "      <td>0.108590</td>\n",
       "      <td>0.039410</td>\n",
       "      <td>0.034268</td>\n",
       "      <td>0.009059</td>\n",
       "      <td>0.250371</td>\n",
       "      <td>0.101315</td>\n",
       "      <td>...</td>\n",
       "      <td>0.205290</td>\n",
       "      <td>0.483257</td>\n",
       "      <td>-0.017877</td>\n",
       "      <td>0.121357</td>\n",
       "      <td>0.110656</td>\n",
       "      <td>-0.045142</td>\n",
       "      <td>0.105711</td>\n",
       "      <td>0.103378</td>\n",
       "      <td>1</td>\n",
       "      <td>A1</td>\n",
       "    </tr>\n",
       "    <tr>\n",
       "      <td>3</td>\n",
       "      <td>-0.009396</td>\n",
       "      <td>0.028400</td>\n",
       "      <td>0.088716</td>\n",
       "      <td>0.099046</td>\n",
       "      <td>0.146137</td>\n",
       "      <td>0.030071</td>\n",
       "      <td>0.036938</td>\n",
       "      <td>-0.016964</td>\n",
       "      <td>0.356994</td>\n",
       "      <td>-0.052606</td>\n",
       "      <td>...</td>\n",
       "      <td>0.232991</td>\n",
       "      <td>0.996955</td>\n",
       "      <td>-0.122017</td>\n",
       "      <td>0.079051</td>\n",
       "      <td>0.151639</td>\n",
       "      <td>-0.008231</td>\n",
       "      <td>0.162421</td>\n",
       "      <td>0.132295</td>\n",
       "      <td>1</td>\n",
       "      <td>A1</td>\n",
       "    </tr>\n",
       "    <tr>\n",
       "      <td>4</td>\n",
       "      <td>-0.009009</td>\n",
       "      <td>0.027714</td>\n",
       "      <td>0.088716</td>\n",
       "      <td>0.098611</td>\n",
       "      <td>0.123500</td>\n",
       "      <td>0.024224</td>\n",
       "      <td>0.034445</td>\n",
       "      <td>-0.034132</td>\n",
       "      <td>0.461894</td>\n",
       "      <td>-0.090869</td>\n",
       "      <td>...</td>\n",
       "      <td>0.172906</td>\n",
       "      <td>1.711426</td>\n",
       "      <td>-0.161561</td>\n",
       "      <td>0.084319</td>\n",
       "      <td>0.130435</td>\n",
       "      <td>0.015528</td>\n",
       "      <td>0.156427</td>\n",
       "      <td>0.225144</td>\n",
       "      <td>1</td>\n",
       "      <td>A1</td>\n",
       "    </tr>\n",
       "  </tbody>\n",
       "</table>\n",
       "<p>5 rows × 28 columns</p>\n",
       "</div>"
      ],
      "text/plain": [
       "   Sales/Revenues  Gross Margin    EBITDA  EBITDA Margin  \\\n",
       "0       -0.005496      0.030763  0.018885       0.024515   \n",
       "1       -0.005496      0.030763  0.088716       0.094733   \n",
       "2       -0.007045      0.023159  0.088716       0.096440   \n",
       "3       -0.009396      0.028400  0.088716       0.099046   \n",
       "4       -0.009009      0.027714  0.088716       0.098611   \n",
       "\n",
       "   Net Income Before Extras  Total Debt  Net Debt   LT Debt   ST Debt  \\\n",
       "0                  0.146849   -0.029710 -0.019296 -0.042648  0.049875   \n",
       "1                  0.146849   -0.029710 -0.019296 -0.042648  0.049875   \n",
       "2                  0.108590    0.039410  0.034268  0.009059  0.250371   \n",
       "3                  0.146137    0.030071  0.036938 -0.016964  0.356994   \n",
       "4                  0.123500    0.024224  0.034445 -0.034132  0.461894   \n",
       "\n",
       "       Cash  ...  Interest Coverage  Total Liquidity  Current Liquidity  \\\n",
       "0 -0.133716  ...           0.136748         0.392143          -0.184887   \n",
       "1 -0.133716  ...           0.214657         0.392143          -0.184887   \n",
       "2  0.101315  ...           0.205290         0.483257          -0.017877   \n",
       "3 -0.052606  ...           0.232991         0.996955          -0.122017   \n",
       "4 -0.090869  ...           0.172906         1.711426          -0.161561   \n",
       "\n",
       "   Current Liabilities  EPS Before Extras        PE       ROA       ROE  \\\n",
       "0             0.062781           0.148305  0.100409  0.163266  0.102521   \n",
       "1             0.062781           0.148305 -0.089598  0.163266  0.102521   \n",
       "2             0.121357           0.110656 -0.045142  0.105711  0.103378   \n",
       "3             0.079051           0.151639 -0.008231  0.162421  0.132295   \n",
       "4             0.084319           0.130435  0.015528  0.156427  0.225144   \n",
       "\n",
       "   InvGrd  Rating  \n",
       "0       1      A1  \n",
       "1       1      A1  \n",
       "2       1      A1  \n",
       "3       1      A1  \n",
       "4       1      A1  \n",
       "\n",
       "[5 rows x 28 columns]"
      ]
     },
     "execution_count": 4,
     "metadata": {},
     "output_type": "execute_result"
    }
   ],
   "source": [
    "df1.head()"
   ]
  },
  {
   "cell_type": "code",
   "execution_count": 5,
   "metadata": {},
   "outputs": [
    {
     "data": {
      "text/plain": [
       "Sales/Revenues              0\n",
       "Gross Margin                0\n",
       "EBITDA                      0\n",
       "EBITDA Margin               0\n",
       "Net Income Before Extras    0\n",
       "Total Debt                  0\n",
       "Net Debt                    0\n",
       "LT Debt                     0\n",
       "ST Debt                     0\n",
       "Cash                        0\n",
       "Free Cash Flow              0\n",
       "Total Debt/EBITDA           0\n",
       "Net Debt/EBITDA             0\n",
       "Total MV                    0\n",
       "Total Debt/MV               0\n",
       "Net Debt/MV                 0\n",
       "CFO/Debt                    0\n",
       "CFO                         0\n",
       "Interest Coverage           0\n",
       "Total Liquidity             0\n",
       "Current Liquidity           0\n",
       "Current Liabilities         0\n",
       "EPS Before Extras           0\n",
       "PE                          0\n",
       "ROA                         0\n",
       "ROE                         0\n",
       "InvGrd                      0\n",
       "Rating                      0\n",
       "dtype: int64"
      ]
     },
     "execution_count": 5,
     "metadata": {},
     "output_type": "execute_result"
    }
   ],
   "source": [
    "df1.isnull().sum()"
   ]
  },
  {
   "cell_type": "code",
   "execution_count": 6,
   "metadata": {},
   "outputs": [
    {
     "data": {
      "text/plain": [
       "Sales/Revenues              float64\n",
       "Gross Margin                float64\n",
       "EBITDA                      float64\n",
       "EBITDA Margin               float64\n",
       "Net Income Before Extras    float64\n",
       "Total Debt                  float64\n",
       "Net Debt                    float64\n",
       "LT Debt                     float64\n",
       "ST Debt                     float64\n",
       "Cash                        float64\n",
       "Free Cash Flow              float64\n",
       "Total Debt/EBITDA           float64\n",
       "Net Debt/EBITDA             float64\n",
       "Total MV                    float64\n",
       "Total Debt/MV               float64\n",
       "Net Debt/MV                 float64\n",
       "CFO/Debt                    float64\n",
       "CFO                         float64\n",
       "Interest Coverage           float64\n",
       "Total Liquidity             float64\n",
       "Current Liquidity           float64\n",
       "Current Liabilities         float64\n",
       "EPS Before Extras           float64\n",
       "PE                          float64\n",
       "ROA                         float64\n",
       "ROE                         float64\n",
       "InvGrd                        int64\n",
       "Rating                       object\n",
       "dtype: object"
      ]
     },
     "execution_count": 6,
     "metadata": {},
     "output_type": "execute_result"
    }
   ],
   "source": [
    "df1.dtypes"
   ]
  },
  {
   "cell_type": "code",
   "execution_count": 106,
   "metadata": {},
   "outputs": [
    {
     "data": {
      "text/html": [
       "<div>\n",
       "<style scoped>\n",
       "    .dataframe tbody tr th:only-of-type {\n",
       "        vertical-align: middle;\n",
       "    }\n",
       "\n",
       "    .dataframe tbody tr th {\n",
       "        vertical-align: top;\n",
       "    }\n",
       "\n",
       "    .dataframe thead th {\n",
       "        text-align: right;\n",
       "    }\n",
       "</style>\n",
       "<table border=\"1\" class=\"dataframe\">\n",
       "  <thead>\n",
       "    <tr style=\"text-align: right;\">\n",
       "      <th></th>\n",
       "      <th>Sales/Revenues</th>\n",
       "      <th>Gross Margin</th>\n",
       "      <th>EBITDA</th>\n",
       "      <th>EBITDA Margin</th>\n",
       "      <th>Net Income Before Extras</th>\n",
       "      <th>Total Debt</th>\n",
       "      <th>Net Debt</th>\n",
       "      <th>LT Debt</th>\n",
       "      <th>ST Debt</th>\n",
       "      <th>Cash</th>\n",
       "      <th>...</th>\n",
       "      <th>CFO</th>\n",
       "      <th>Interest Coverage</th>\n",
       "      <th>Total Liquidity</th>\n",
       "      <th>Current Liquidity</th>\n",
       "      <th>Current Liabilities</th>\n",
       "      <th>EPS Before Extras</th>\n",
       "      <th>PE</th>\n",
       "      <th>ROA</th>\n",
       "      <th>ROE</th>\n",
       "      <th>InvGrd</th>\n",
       "    </tr>\n",
       "  </thead>\n",
       "  <tbody>\n",
       "    <tr>\n",
       "      <td>Sales/Revenues</td>\n",
       "      <td>1.000000</td>\n",
       "      <td>-0.026318</td>\n",
       "      <td>0.500178</td>\n",
       "      <td>-0.124079</td>\n",
       "      <td>0.012024</td>\n",
       "      <td>0.068938</td>\n",
       "      <td>0.175741</td>\n",
       "      <td>0.048960</td>\n",
       "      <td>0.014987</td>\n",
       "      <td>-0.008088</td>\n",
       "      <td>...</td>\n",
       "      <td>0.034069</td>\n",
       "      <td>0.032716</td>\n",
       "      <td>0.035747</td>\n",
       "      <td>-0.081346</td>\n",
       "      <td>0.553807</td>\n",
       "      <td>0.034722</td>\n",
       "      <td>-0.014842</td>\n",
       "      <td>0.007251</td>\n",
       "      <td>-0.000206</td>\n",
       "      <td>-0.080836</td>\n",
       "    </tr>\n",
       "    <tr>\n",
       "      <td>Gross Margin</td>\n",
       "      <td>-0.026318</td>\n",
       "      <td>1.000000</td>\n",
       "      <td>0.114092</td>\n",
       "      <td>0.147886</td>\n",
       "      <td>-0.001061</td>\n",
       "      <td>-0.002665</td>\n",
       "      <td>0.004266</td>\n",
       "      <td>-0.003149</td>\n",
       "      <td>-0.005417</td>\n",
       "      <td>-0.024540</td>\n",
       "      <td>...</td>\n",
       "      <td>-0.055569</td>\n",
       "      <td>-0.002079</td>\n",
       "      <td>-0.011190</td>\n",
       "      <td>-0.022793</td>\n",
       "      <td>0.051386</td>\n",
       "      <td>0.000857</td>\n",
       "      <td>0.029146</td>\n",
       "      <td>-0.001583</td>\n",
       "      <td>0.000182</td>\n",
       "      <td>-0.066103</td>\n",
       "    </tr>\n",
       "    <tr>\n",
       "      <td>EBITDA</td>\n",
       "      <td>0.500178</td>\n",
       "      <td>0.114092</td>\n",
       "      <td>1.000000</td>\n",
       "      <td>0.757142</td>\n",
       "      <td>0.012565</td>\n",
       "      <td>0.008949</td>\n",
       "      <td>0.119251</td>\n",
       "      <td>-0.000665</td>\n",
       "      <td>0.004844</td>\n",
       "      <td>-0.030773</td>\n",
       "      <td>...</td>\n",
       "      <td>-0.041064</td>\n",
       "      <td>0.028118</td>\n",
       "      <td>-0.008799</td>\n",
       "      <td>-0.054680</td>\n",
       "      <td>0.207526</td>\n",
       "      <td>0.042191</td>\n",
       "      <td>0.040732</td>\n",
       "      <td>0.007913</td>\n",
       "      <td>-0.005701</td>\n",
       "      <td>-0.085951</td>\n",
       "    </tr>\n",
       "    <tr>\n",
       "      <td>EBITDA Margin</td>\n",
       "      <td>-0.124079</td>\n",
       "      <td>0.147886</td>\n",
       "      <td>0.757142</td>\n",
       "      <td>1.000000</td>\n",
       "      <td>0.003331</td>\n",
       "      <td>-0.039804</td>\n",
       "      <td>0.000336</td>\n",
       "      <td>-0.037009</td>\n",
       "      <td>-0.006310</td>\n",
       "      <td>-0.023997</td>\n",
       "      <td>...</td>\n",
       "      <td>-0.075326</td>\n",
       "      <td>0.008147</td>\n",
       "      <td>-0.033862</td>\n",
       "      <td>-0.000036</td>\n",
       "      <td>-0.119068</td>\n",
       "      <td>0.021589</td>\n",
       "      <td>0.071426</td>\n",
       "      <td>0.002072</td>\n",
       "      <td>-0.008328</td>\n",
       "      <td>-0.024112</td>\n",
       "    </tr>\n",
       "    <tr>\n",
       "      <td>Net Income Before Extras</td>\n",
       "      <td>0.012024</td>\n",
       "      <td>-0.001061</td>\n",
       "      <td>0.012565</td>\n",
       "      <td>0.003331</td>\n",
       "      <td>1.000000</td>\n",
       "      <td>-0.001065</td>\n",
       "      <td>0.000867</td>\n",
       "      <td>-0.001162</td>\n",
       "      <td>-0.000221</td>\n",
       "      <td>-0.006703</td>\n",
       "      <td>...</td>\n",
       "      <td>0.001832</td>\n",
       "      <td>0.002233</td>\n",
       "      <td>-0.001938</td>\n",
       "      <td>-0.008131</td>\n",
       "      <td>0.004226</td>\n",
       "      <td>0.506547</td>\n",
       "      <td>-0.003166</td>\n",
       "      <td>0.997349</td>\n",
       "      <td>0.782491</td>\n",
       "      <td>-0.027919</td>\n",
       "    </tr>\n",
       "    <tr>\n",
       "      <td>Total Debt</td>\n",
       "      <td>0.068938</td>\n",
       "      <td>-0.002665</td>\n",
       "      <td>0.008949</td>\n",
       "      <td>-0.039804</td>\n",
       "      <td>-0.001065</td>\n",
       "      <td>1.000000</td>\n",
       "      <td>-0.022209</td>\n",
       "      <td>0.833567</td>\n",
       "      <td>0.118240</td>\n",
       "      <td>-0.030002</td>\n",
       "      <td>...</td>\n",
       "      <td>0.000924</td>\n",
       "      <td>-0.016078</td>\n",
       "      <td>-0.000801</td>\n",
       "      <td>-0.031600</td>\n",
       "      <td>0.062364</td>\n",
       "      <td>-0.001424</td>\n",
       "      <td>-0.003652</td>\n",
       "      <td>-0.001406</td>\n",
       "      <td>0.000301</td>\n",
       "      <td>-0.090372</td>\n",
       "    </tr>\n",
       "    <tr>\n",
       "      <td>Net Debt</td>\n",
       "      <td>0.175741</td>\n",
       "      <td>0.004266</td>\n",
       "      <td>0.119251</td>\n",
       "      <td>0.000336</td>\n",
       "      <td>0.000867</td>\n",
       "      <td>-0.022209</td>\n",
       "      <td>1.000000</td>\n",
       "      <td>-0.021307</td>\n",
       "      <td>0.001191</td>\n",
       "      <td>0.007184</td>\n",
       "      <td>...</td>\n",
       "      <td>0.002762</td>\n",
       "      <td>-0.003566</td>\n",
       "      <td>0.000492</td>\n",
       "      <td>-0.003824</td>\n",
       "      <td>0.059139</td>\n",
       "      <td>0.001046</td>\n",
       "      <td>-0.000371</td>\n",
       "      <td>-0.000709</td>\n",
       "      <td>-0.001965</td>\n",
       "      <td>-0.042195</td>\n",
       "    </tr>\n",
       "    <tr>\n",
       "      <td>LT Debt</td>\n",
       "      <td>0.048960</td>\n",
       "      <td>-0.003149</td>\n",
       "      <td>-0.000665</td>\n",
       "      <td>-0.037009</td>\n",
       "      <td>-0.001162</td>\n",
       "      <td>0.833567</td>\n",
       "      <td>-0.021307</td>\n",
       "      <td>1.000000</td>\n",
       "      <td>0.092393</td>\n",
       "      <td>-0.030084</td>\n",
       "      <td>...</td>\n",
       "      <td>0.001270</td>\n",
       "      <td>-0.014810</td>\n",
       "      <td>-0.000532</td>\n",
       "      <td>-0.026573</td>\n",
       "      <td>0.023553</td>\n",
       "      <td>-0.001298</td>\n",
       "      <td>-0.003545</td>\n",
       "      <td>-0.001303</td>\n",
       "      <td>0.000712</td>\n",
       "      <td>-0.061665</td>\n",
       "    </tr>\n",
       "    <tr>\n",
       "      <td>ST Debt</td>\n",
       "      <td>0.014987</td>\n",
       "      <td>-0.005417</td>\n",
       "      <td>0.004844</td>\n",
       "      <td>-0.006310</td>\n",
       "      <td>-0.000221</td>\n",
       "      <td>0.118240</td>\n",
       "      <td>0.001191</td>\n",
       "      <td>0.092393</td>\n",
       "      <td>1.000000</td>\n",
       "      <td>-0.012802</td>\n",
       "      <td>...</td>\n",
       "      <td>0.002729</td>\n",
       "      <td>-0.007233</td>\n",
       "      <td>0.000503</td>\n",
       "      <td>-0.023235</td>\n",
       "      <td>0.105872</td>\n",
       "      <td>0.000275</td>\n",
       "      <td>-0.002704</td>\n",
       "      <td>-0.000339</td>\n",
       "      <td>-0.001022</td>\n",
       "      <td>-0.003028</td>\n",
       "    </tr>\n",
       "    <tr>\n",
       "      <td>Cash</td>\n",
       "      <td>-0.008088</td>\n",
       "      <td>-0.024540</td>\n",
       "      <td>-0.030773</td>\n",
       "      <td>-0.023997</td>\n",
       "      <td>-0.006703</td>\n",
       "      <td>-0.030002</td>\n",
       "      <td>0.007184</td>\n",
       "      <td>-0.030084</td>\n",
       "      <td>-0.012802</td>\n",
       "      <td>1.000000</td>\n",
       "      <td>...</td>\n",
       "      <td>0.019751</td>\n",
       "      <td>-0.023920</td>\n",
       "      <td>0.023993</td>\n",
       "      <td>0.973123</td>\n",
       "      <td>0.004712</td>\n",
       "      <td>-0.017470</td>\n",
       "      <td>0.034156</td>\n",
       "      <td>-0.006606</td>\n",
       "      <td>-0.000344</td>\n",
       "      <td>-0.088877</td>\n",
       "    </tr>\n",
       "    <tr>\n",
       "      <td>Free Cash Flow</td>\n",
       "      <td>0.035716</td>\n",
       "      <td>0.001920</td>\n",
       "      <td>0.009102</td>\n",
       "      <td>-0.021301</td>\n",
       "      <td>0.023523</td>\n",
       "      <td>0.002539</td>\n",
       "      <td>-0.013257</td>\n",
       "      <td>0.002399</td>\n",
       "      <td>0.004448</td>\n",
       "      <td>0.002603</td>\n",
       "      <td>...</td>\n",
       "      <td>0.016163</td>\n",
       "      <td>-0.077278</td>\n",
       "      <td>0.004097</td>\n",
       "      <td>-0.006539</td>\n",
       "      <td>0.044681</td>\n",
       "      <td>0.027709</td>\n",
       "      <td>0.011691</td>\n",
       "      <td>0.024294</td>\n",
       "      <td>0.017953</td>\n",
       "      <td>0.026407</td>\n",
       "    </tr>\n",
       "    <tr>\n",
       "      <td>Total Debt/EBITDA</td>\n",
       "      <td>0.056092</td>\n",
       "      <td>-0.005690</td>\n",
       "      <td>-0.009527</td>\n",
       "      <td>-0.051062</td>\n",
       "      <td>-0.001490</td>\n",
       "      <td>0.999328</td>\n",
       "      <td>-0.031475</td>\n",
       "      <td>0.833357</td>\n",
       "      <td>0.120847</td>\n",
       "      <td>-0.029271</td>\n",
       "      <td>...</td>\n",
       "      <td>0.000719</td>\n",
       "      <td>-0.016447</td>\n",
       "      <td>-0.000171</td>\n",
       "      <td>-0.029813</td>\n",
       "      <td>0.054800</td>\n",
       "      <td>-0.002501</td>\n",
       "      <td>-0.004169</td>\n",
       "      <td>-0.001724</td>\n",
       "      <td>0.000288</td>\n",
       "      <td>-0.089502</td>\n",
       "    </tr>\n",
       "    <tr>\n",
       "      <td>Net Debt/EBITDA</td>\n",
       "      <td>0.110201</td>\n",
       "      <td>-0.000236</td>\n",
       "      <td>0.074284</td>\n",
       "      <td>-0.000145</td>\n",
       "      <td>0.000312</td>\n",
       "      <td>-0.035136</td>\n",
       "      <td>0.907461</td>\n",
       "      <td>-0.032828</td>\n",
       "      <td>0.000078</td>\n",
       "      <td>0.016337</td>\n",
       "      <td>...</td>\n",
       "      <td>0.001430</td>\n",
       "      <td>-0.002744</td>\n",
       "      <td>0.000627</td>\n",
       "      <td>0.003207</td>\n",
       "      <td>0.019834</td>\n",
       "      <td>-0.000401</td>\n",
       "      <td>0.000582</td>\n",
       "      <td>-0.000562</td>\n",
       "      <td>-0.002714</td>\n",
       "      <td>-0.030395</td>\n",
       "    </tr>\n",
       "    <tr>\n",
       "      <td>Total MV</td>\n",
       "      <td>0.123111</td>\n",
       "      <td>0.024361</td>\n",
       "      <td>0.256941</td>\n",
       "      <td>0.209314</td>\n",
       "      <td>-0.005511</td>\n",
       "      <td>-0.056449</td>\n",
       "      <td>0.000173</td>\n",
       "      <td>-0.042830</td>\n",
       "      <td>-0.007019</td>\n",
       "      <td>0.115015</td>\n",
       "      <td>...</td>\n",
       "      <td>0.009809</td>\n",
       "      <td>-0.031972</td>\n",
       "      <td>0.011034</td>\n",
       "      <td>0.078930</td>\n",
       "      <td>0.133008</td>\n",
       "      <td>0.030909</td>\n",
       "      <td>0.122039</td>\n",
       "      <td>-0.007139</td>\n",
       "      <td>0.002519</td>\n",
       "      <td>-0.095460</td>\n",
       "    </tr>\n",
       "    <tr>\n",
       "      <td>Total Debt/MV</td>\n",
       "      <td>0.062128</td>\n",
       "      <td>-0.003954</td>\n",
       "      <td>0.002857</td>\n",
       "      <td>-0.041728</td>\n",
       "      <td>-0.001252</td>\n",
       "      <td>0.964306</td>\n",
       "      <td>-0.019287</td>\n",
       "      <td>0.805303</td>\n",
       "      <td>0.089413</td>\n",
       "      <td>-0.028543</td>\n",
       "      <td>...</td>\n",
       "      <td>0.000511</td>\n",
       "      <td>-0.013993</td>\n",
       "      <td>-0.000285</td>\n",
       "      <td>-0.029198</td>\n",
       "      <td>0.047056</td>\n",
       "      <td>-0.002455</td>\n",
       "      <td>-0.004437</td>\n",
       "      <td>-0.001525</td>\n",
       "      <td>-0.000178</td>\n",
       "      <td>-0.086889</td>\n",
       "    </tr>\n",
       "    <tr>\n",
       "      <td>Net Debt/MV</td>\n",
       "      <td>0.176797</td>\n",
       "      <td>0.009945</td>\n",
       "      <td>0.123084</td>\n",
       "      <td>0.004226</td>\n",
       "      <td>0.000701</td>\n",
       "      <td>-0.022305</td>\n",
       "      <td>0.978717</td>\n",
       "      <td>-0.019685</td>\n",
       "      <td>-0.004311</td>\n",
       "      <td>0.007232</td>\n",
       "      <td>...</td>\n",
       "      <td>0.002376</td>\n",
       "      <td>-0.002807</td>\n",
       "      <td>0.000557</td>\n",
       "      <td>-0.000427</td>\n",
       "      <td>0.048441</td>\n",
       "      <td>0.000576</td>\n",
       "      <td>-0.000700</td>\n",
       "      <td>-0.000764</td>\n",
       "      <td>-0.001434</td>\n",
       "      <td>-0.039342</td>\n",
       "    </tr>\n",
       "    <tr>\n",
       "      <td>CFO/Debt</td>\n",
       "      <td>0.016833</td>\n",
       "      <td>-0.055521</td>\n",
       "      <td>-0.054541</td>\n",
       "      <td>-0.076554</td>\n",
       "      <td>0.002084</td>\n",
       "      <td>-0.008508</td>\n",
       "      <td>0.001579</td>\n",
       "      <td>-0.006241</td>\n",
       "      <td>-0.002695</td>\n",
       "      <td>0.020886</td>\n",
       "      <td>...</td>\n",
       "      <td>0.990774</td>\n",
       "      <td>0.039863</td>\n",
       "      <td>0.002658</td>\n",
       "      <td>0.016303</td>\n",
       "      <td>0.032522</td>\n",
       "      <td>0.009604</td>\n",
       "      <td>0.010269</td>\n",
       "      <td>0.002736</td>\n",
       "      <td>0.000598</td>\n",
       "      <td>0.052756</td>\n",
       "    </tr>\n",
       "    <tr>\n",
       "      <td>CFO</td>\n",
       "      <td>0.034069</td>\n",
       "      <td>-0.055569</td>\n",
       "      <td>-0.041064</td>\n",
       "      <td>-0.075326</td>\n",
       "      <td>0.001832</td>\n",
       "      <td>0.000924</td>\n",
       "      <td>0.002762</td>\n",
       "      <td>0.001270</td>\n",
       "      <td>0.002729</td>\n",
       "      <td>0.019751</td>\n",
       "      <td>...</td>\n",
       "      <td>1.000000</td>\n",
       "      <td>0.000870</td>\n",
       "      <td>0.001478</td>\n",
       "      <td>0.012089</td>\n",
       "      <td>0.053633</td>\n",
       "      <td>0.009574</td>\n",
       "      <td>0.009654</td>\n",
       "      <td>0.002478</td>\n",
       "      <td>-0.000034</td>\n",
       "      <td>0.049368</td>\n",
       "    </tr>\n",
       "    <tr>\n",
       "      <td>Interest Coverage</td>\n",
       "      <td>0.032716</td>\n",
       "      <td>-0.002079</td>\n",
       "      <td>0.028118</td>\n",
       "      <td>0.008147</td>\n",
       "      <td>0.002233</td>\n",
       "      <td>-0.016078</td>\n",
       "      <td>-0.003566</td>\n",
       "      <td>-0.014810</td>\n",
       "      <td>-0.007233</td>\n",
       "      <td>-0.023920</td>\n",
       "      <td>...</td>\n",
       "      <td>0.000870</td>\n",
       "      <td>1.000000</td>\n",
       "      <td>0.000339</td>\n",
       "      <td>-0.024121</td>\n",
       "      <td>0.008097</td>\n",
       "      <td>0.004449</td>\n",
       "      <td>-0.001023</td>\n",
       "      <td>0.001785</td>\n",
       "      <td>0.002103</td>\n",
       "      <td>0.025277</td>\n",
       "    </tr>\n",
       "    <tr>\n",
       "      <td>Total Liquidity</td>\n",
       "      <td>0.035747</td>\n",
       "      <td>-0.011190</td>\n",
       "      <td>-0.008799</td>\n",
       "      <td>-0.033862</td>\n",
       "      <td>-0.001938</td>\n",
       "      <td>-0.000801</td>\n",
       "      <td>0.000492</td>\n",
       "      <td>-0.000532</td>\n",
       "      <td>0.000503</td>\n",
       "      <td>0.023993</td>\n",
       "      <td>...</td>\n",
       "      <td>0.001478</td>\n",
       "      <td>0.000339</td>\n",
       "      <td>1.000000</td>\n",
       "      <td>0.013024</td>\n",
       "      <td>0.039688</td>\n",
       "      <td>-0.004889</td>\n",
       "      <td>0.004739</td>\n",
       "      <td>-0.002458</td>\n",
       "      <td>-0.003223</td>\n",
       "      <td>-0.016117</td>\n",
       "    </tr>\n",
       "    <tr>\n",
       "      <td>Current Liquidity</td>\n",
       "      <td>-0.081346</td>\n",
       "      <td>-0.022793</td>\n",
       "      <td>-0.054680</td>\n",
       "      <td>-0.000036</td>\n",
       "      <td>-0.008131</td>\n",
       "      <td>-0.031600</td>\n",
       "      <td>-0.003824</td>\n",
       "      <td>-0.026573</td>\n",
       "      <td>-0.023235</td>\n",
       "      <td>0.973123</td>\n",
       "      <td>...</td>\n",
       "      <td>0.012089</td>\n",
       "      <td>-0.024121</td>\n",
       "      <td>0.013024</td>\n",
       "      <td>1.000000</td>\n",
       "      <td>-0.145766</td>\n",
       "      <td>-0.020050</td>\n",
       "      <td>0.045229</td>\n",
       "      <td>-0.007790</td>\n",
       "      <td>-0.000544</td>\n",
       "      <td>-0.093658</td>\n",
       "    </tr>\n",
       "    <tr>\n",
       "      <td>Current Liabilities</td>\n",
       "      <td>0.553807</td>\n",
       "      <td>0.051386</td>\n",
       "      <td>0.207526</td>\n",
       "      <td>-0.119068</td>\n",
       "      <td>0.004226</td>\n",
       "      <td>0.062364</td>\n",
       "      <td>0.059139</td>\n",
       "      <td>0.023553</td>\n",
       "      <td>0.105872</td>\n",
       "      <td>0.004712</td>\n",
       "      <td>...</td>\n",
       "      <td>0.053633</td>\n",
       "      <td>0.008097</td>\n",
       "      <td>0.039688</td>\n",
       "      <td>-0.145766</td>\n",
       "      <td>1.000000</td>\n",
       "      <td>0.013620</td>\n",
       "      <td>-0.026659</td>\n",
       "      <td>0.003664</td>\n",
       "      <td>-0.006576</td>\n",
       "      <td>0.019039</td>\n",
       "    </tr>\n",
       "    <tr>\n",
       "      <td>EPS Before Extras</td>\n",
       "      <td>0.034722</td>\n",
       "      <td>0.000857</td>\n",
       "      <td>0.042191</td>\n",
       "      <td>0.021589</td>\n",
       "      <td>0.506547</td>\n",
       "      <td>-0.001424</td>\n",
       "      <td>0.001046</td>\n",
       "      <td>-0.001298</td>\n",
       "      <td>0.000275</td>\n",
       "      <td>-0.017470</td>\n",
       "      <td>...</td>\n",
       "      <td>0.009574</td>\n",
       "      <td>0.004449</td>\n",
       "      <td>-0.004889</td>\n",
       "      <td>-0.020050</td>\n",
       "      <td>0.013620</td>\n",
       "      <td>1.000000</td>\n",
       "      <td>-0.006064</td>\n",
       "      <td>0.506586</td>\n",
       "      <td>0.486489</td>\n",
       "      <td>0.027645</td>\n",
       "    </tr>\n",
       "    <tr>\n",
       "      <td>PE</td>\n",
       "      <td>-0.014842</td>\n",
       "      <td>0.029146</td>\n",
       "      <td>0.040732</td>\n",
       "      <td>0.071426</td>\n",
       "      <td>-0.003166</td>\n",
       "      <td>-0.003652</td>\n",
       "      <td>-0.000371</td>\n",
       "      <td>-0.003545</td>\n",
       "      <td>-0.002704</td>\n",
       "      <td>0.034156</td>\n",
       "      <td>...</td>\n",
       "      <td>0.009654</td>\n",
       "      <td>-0.001023</td>\n",
       "      <td>0.004739</td>\n",
       "      <td>0.045229</td>\n",
       "      <td>-0.026659</td>\n",
       "      <td>-0.006064</td>\n",
       "      <td>1.000000</td>\n",
       "      <td>-0.002540</td>\n",
       "      <td>-0.000655</td>\n",
       "      <td>-0.021736</td>\n",
       "    </tr>\n",
       "    <tr>\n",
       "      <td>ROA</td>\n",
       "      <td>0.007251</td>\n",
       "      <td>-0.001583</td>\n",
       "      <td>0.007913</td>\n",
       "      <td>0.002072</td>\n",
       "      <td>0.997349</td>\n",
       "      <td>-0.001406</td>\n",
       "      <td>-0.000709</td>\n",
       "      <td>-0.001303</td>\n",
       "      <td>-0.000339</td>\n",
       "      <td>-0.006606</td>\n",
       "      <td>...</td>\n",
       "      <td>0.002478</td>\n",
       "      <td>0.001785</td>\n",
       "      <td>-0.002458</td>\n",
       "      <td>-0.007790</td>\n",
       "      <td>0.003664</td>\n",
       "      <td>0.506586</td>\n",
       "      <td>-0.002540</td>\n",
       "      <td>1.000000</td>\n",
       "      <td>0.788035</td>\n",
       "      <td>-0.023101</td>\n",
       "    </tr>\n",
       "    <tr>\n",
       "      <td>ROE</td>\n",
       "      <td>-0.000206</td>\n",
       "      <td>0.000182</td>\n",
       "      <td>-0.005701</td>\n",
       "      <td>-0.008328</td>\n",
       "      <td>0.782491</td>\n",
       "      <td>0.000301</td>\n",
       "      <td>-0.001965</td>\n",
       "      <td>0.000712</td>\n",
       "      <td>-0.001022</td>\n",
       "      <td>-0.000344</td>\n",
       "      <td>...</td>\n",
       "      <td>-0.000034</td>\n",
       "      <td>0.002103</td>\n",
       "      <td>-0.003223</td>\n",
       "      <td>-0.000544</td>\n",
       "      <td>-0.006576</td>\n",
       "      <td>0.486489</td>\n",
       "      <td>-0.000655</td>\n",
       "      <td>0.788035</td>\n",
       "      <td>1.000000</td>\n",
       "      <td>0.020056</td>\n",
       "    </tr>\n",
       "    <tr>\n",
       "      <td>InvGrd</td>\n",
       "      <td>-0.080836</td>\n",
       "      <td>-0.066103</td>\n",
       "      <td>-0.085951</td>\n",
       "      <td>-0.024112</td>\n",
       "      <td>-0.027919</td>\n",
       "      <td>-0.090372</td>\n",
       "      <td>-0.042195</td>\n",
       "      <td>-0.061665</td>\n",
       "      <td>-0.003028</td>\n",
       "      <td>-0.088877</td>\n",
       "      <td>...</td>\n",
       "      <td>0.049368</td>\n",
       "      <td>0.025277</td>\n",
       "      <td>-0.016117</td>\n",
       "      <td>-0.093658</td>\n",
       "      <td>0.019039</td>\n",
       "      <td>0.027645</td>\n",
       "      <td>-0.021736</td>\n",
       "      <td>-0.023101</td>\n",
       "      <td>0.020056</td>\n",
       "      <td>1.000000</td>\n",
       "    </tr>\n",
       "  </tbody>\n",
       "</table>\n",
       "<p>27 rows × 27 columns</p>\n",
       "</div>"
      ],
      "text/plain": [
       "                          Sales/Revenues  Gross Margin    EBITDA  \\\n",
       "Sales/Revenues                  1.000000     -0.026318  0.500178   \n",
       "Gross Margin                   -0.026318      1.000000  0.114092   \n",
       "EBITDA                          0.500178      0.114092  1.000000   \n",
       "EBITDA Margin                  -0.124079      0.147886  0.757142   \n",
       "Net Income Before Extras        0.012024     -0.001061  0.012565   \n",
       "Total Debt                      0.068938     -0.002665  0.008949   \n",
       "Net Debt                        0.175741      0.004266  0.119251   \n",
       "LT Debt                         0.048960     -0.003149 -0.000665   \n",
       "ST Debt                         0.014987     -0.005417  0.004844   \n",
       "Cash                           -0.008088     -0.024540 -0.030773   \n",
       "Free Cash Flow                  0.035716      0.001920  0.009102   \n",
       "Total Debt/EBITDA               0.056092     -0.005690 -0.009527   \n",
       "Net Debt/EBITDA                 0.110201     -0.000236  0.074284   \n",
       "Total MV                        0.123111      0.024361  0.256941   \n",
       "Total Debt/MV                   0.062128     -0.003954  0.002857   \n",
       "Net Debt/MV                     0.176797      0.009945  0.123084   \n",
       "CFO/Debt                        0.016833     -0.055521 -0.054541   \n",
       "CFO                             0.034069     -0.055569 -0.041064   \n",
       "Interest Coverage               0.032716     -0.002079  0.028118   \n",
       "Total Liquidity                 0.035747     -0.011190 -0.008799   \n",
       "Current Liquidity              -0.081346     -0.022793 -0.054680   \n",
       "Current Liabilities             0.553807      0.051386  0.207526   \n",
       "EPS Before Extras               0.034722      0.000857  0.042191   \n",
       "PE                             -0.014842      0.029146  0.040732   \n",
       "ROA                             0.007251     -0.001583  0.007913   \n",
       "ROE                            -0.000206      0.000182 -0.005701   \n",
       "InvGrd                         -0.080836     -0.066103 -0.085951   \n",
       "\n",
       "                          EBITDA Margin  Net Income Before Extras  Total Debt  \\\n",
       "Sales/Revenues                -0.124079                  0.012024    0.068938   \n",
       "Gross Margin                   0.147886                 -0.001061   -0.002665   \n",
       "EBITDA                         0.757142                  0.012565    0.008949   \n",
       "EBITDA Margin                  1.000000                  0.003331   -0.039804   \n",
       "Net Income Before Extras       0.003331                  1.000000   -0.001065   \n",
       "Total Debt                    -0.039804                 -0.001065    1.000000   \n",
       "Net Debt                       0.000336                  0.000867   -0.022209   \n",
       "LT Debt                       -0.037009                 -0.001162    0.833567   \n",
       "ST Debt                       -0.006310                 -0.000221    0.118240   \n",
       "Cash                          -0.023997                 -0.006703   -0.030002   \n",
       "Free Cash Flow                -0.021301                  0.023523    0.002539   \n",
       "Total Debt/EBITDA             -0.051062                 -0.001490    0.999328   \n",
       "Net Debt/EBITDA               -0.000145                  0.000312   -0.035136   \n",
       "Total MV                       0.209314                 -0.005511   -0.056449   \n",
       "Total Debt/MV                 -0.041728                 -0.001252    0.964306   \n",
       "Net Debt/MV                    0.004226                  0.000701   -0.022305   \n",
       "CFO/Debt                      -0.076554                  0.002084   -0.008508   \n",
       "CFO                           -0.075326                  0.001832    0.000924   \n",
       "Interest Coverage              0.008147                  0.002233   -0.016078   \n",
       "Total Liquidity               -0.033862                 -0.001938   -0.000801   \n",
       "Current Liquidity             -0.000036                 -0.008131   -0.031600   \n",
       "Current Liabilities           -0.119068                  0.004226    0.062364   \n",
       "EPS Before Extras              0.021589                  0.506547   -0.001424   \n",
       "PE                             0.071426                 -0.003166   -0.003652   \n",
       "ROA                            0.002072                  0.997349   -0.001406   \n",
       "ROE                           -0.008328                  0.782491    0.000301   \n",
       "InvGrd                        -0.024112                 -0.027919   -0.090372   \n",
       "\n",
       "                          Net Debt   LT Debt   ST Debt      Cash  ...  \\\n",
       "Sales/Revenues            0.175741  0.048960  0.014987 -0.008088  ...   \n",
       "Gross Margin              0.004266 -0.003149 -0.005417 -0.024540  ...   \n",
       "EBITDA                    0.119251 -0.000665  0.004844 -0.030773  ...   \n",
       "EBITDA Margin             0.000336 -0.037009 -0.006310 -0.023997  ...   \n",
       "Net Income Before Extras  0.000867 -0.001162 -0.000221 -0.006703  ...   \n",
       "Total Debt               -0.022209  0.833567  0.118240 -0.030002  ...   \n",
       "Net Debt                  1.000000 -0.021307  0.001191  0.007184  ...   \n",
       "LT Debt                  -0.021307  1.000000  0.092393 -0.030084  ...   \n",
       "ST Debt                   0.001191  0.092393  1.000000 -0.012802  ...   \n",
       "Cash                      0.007184 -0.030084 -0.012802  1.000000  ...   \n",
       "Free Cash Flow           -0.013257  0.002399  0.004448  0.002603  ...   \n",
       "Total Debt/EBITDA        -0.031475  0.833357  0.120847 -0.029271  ...   \n",
       "Net Debt/EBITDA           0.907461 -0.032828  0.000078  0.016337  ...   \n",
       "Total MV                  0.000173 -0.042830 -0.007019  0.115015  ...   \n",
       "Total Debt/MV            -0.019287  0.805303  0.089413 -0.028543  ...   \n",
       "Net Debt/MV               0.978717 -0.019685 -0.004311  0.007232  ...   \n",
       "CFO/Debt                  0.001579 -0.006241 -0.002695  0.020886  ...   \n",
       "CFO                       0.002762  0.001270  0.002729  0.019751  ...   \n",
       "Interest Coverage        -0.003566 -0.014810 -0.007233 -0.023920  ...   \n",
       "Total Liquidity           0.000492 -0.000532  0.000503  0.023993  ...   \n",
       "Current Liquidity        -0.003824 -0.026573 -0.023235  0.973123  ...   \n",
       "Current Liabilities       0.059139  0.023553  0.105872  0.004712  ...   \n",
       "EPS Before Extras         0.001046 -0.001298  0.000275 -0.017470  ...   \n",
       "PE                       -0.000371 -0.003545 -0.002704  0.034156  ...   \n",
       "ROA                      -0.000709 -0.001303 -0.000339 -0.006606  ...   \n",
       "ROE                      -0.001965  0.000712 -0.001022 -0.000344  ...   \n",
       "InvGrd                   -0.042195 -0.061665 -0.003028 -0.088877  ...   \n",
       "\n",
       "                               CFO  Interest Coverage  Total Liquidity  \\\n",
       "Sales/Revenues            0.034069           0.032716         0.035747   \n",
       "Gross Margin             -0.055569          -0.002079        -0.011190   \n",
       "EBITDA                   -0.041064           0.028118        -0.008799   \n",
       "EBITDA Margin            -0.075326           0.008147        -0.033862   \n",
       "Net Income Before Extras  0.001832           0.002233        -0.001938   \n",
       "Total Debt                0.000924          -0.016078        -0.000801   \n",
       "Net Debt                  0.002762          -0.003566         0.000492   \n",
       "LT Debt                   0.001270          -0.014810        -0.000532   \n",
       "ST Debt                   0.002729          -0.007233         0.000503   \n",
       "Cash                      0.019751          -0.023920         0.023993   \n",
       "Free Cash Flow            0.016163          -0.077278         0.004097   \n",
       "Total Debt/EBITDA         0.000719          -0.016447        -0.000171   \n",
       "Net Debt/EBITDA           0.001430          -0.002744         0.000627   \n",
       "Total MV                  0.009809          -0.031972         0.011034   \n",
       "Total Debt/MV             0.000511          -0.013993        -0.000285   \n",
       "Net Debt/MV               0.002376          -0.002807         0.000557   \n",
       "CFO/Debt                  0.990774           0.039863         0.002658   \n",
       "CFO                       1.000000           0.000870         0.001478   \n",
       "Interest Coverage         0.000870           1.000000         0.000339   \n",
       "Total Liquidity           0.001478           0.000339         1.000000   \n",
       "Current Liquidity         0.012089          -0.024121         0.013024   \n",
       "Current Liabilities       0.053633           0.008097         0.039688   \n",
       "EPS Before Extras         0.009574           0.004449        -0.004889   \n",
       "PE                        0.009654          -0.001023         0.004739   \n",
       "ROA                       0.002478           0.001785        -0.002458   \n",
       "ROE                      -0.000034           0.002103        -0.003223   \n",
       "InvGrd                    0.049368           0.025277        -0.016117   \n",
       "\n",
       "                          Current Liquidity  Current Liabilities  \\\n",
       "Sales/Revenues                    -0.081346             0.553807   \n",
       "Gross Margin                      -0.022793             0.051386   \n",
       "EBITDA                            -0.054680             0.207526   \n",
       "EBITDA Margin                     -0.000036            -0.119068   \n",
       "Net Income Before Extras          -0.008131             0.004226   \n",
       "Total Debt                        -0.031600             0.062364   \n",
       "Net Debt                          -0.003824             0.059139   \n",
       "LT Debt                           -0.026573             0.023553   \n",
       "ST Debt                           -0.023235             0.105872   \n",
       "Cash                               0.973123             0.004712   \n",
       "Free Cash Flow                    -0.006539             0.044681   \n",
       "Total Debt/EBITDA                 -0.029813             0.054800   \n",
       "Net Debt/EBITDA                    0.003207             0.019834   \n",
       "Total MV                           0.078930             0.133008   \n",
       "Total Debt/MV                     -0.029198             0.047056   \n",
       "Net Debt/MV                       -0.000427             0.048441   \n",
       "CFO/Debt                           0.016303             0.032522   \n",
       "CFO                                0.012089             0.053633   \n",
       "Interest Coverage                 -0.024121             0.008097   \n",
       "Total Liquidity                    0.013024             0.039688   \n",
       "Current Liquidity                  1.000000            -0.145766   \n",
       "Current Liabilities               -0.145766             1.000000   \n",
       "EPS Before Extras                 -0.020050             0.013620   \n",
       "PE                                 0.045229            -0.026659   \n",
       "ROA                               -0.007790             0.003664   \n",
       "ROE                               -0.000544            -0.006576   \n",
       "InvGrd                            -0.093658             0.019039   \n",
       "\n",
       "                          EPS Before Extras        PE       ROA       ROE  \\\n",
       "Sales/Revenues                     0.034722 -0.014842  0.007251 -0.000206   \n",
       "Gross Margin                       0.000857  0.029146 -0.001583  0.000182   \n",
       "EBITDA                             0.042191  0.040732  0.007913 -0.005701   \n",
       "EBITDA Margin                      0.021589  0.071426  0.002072 -0.008328   \n",
       "Net Income Before Extras           0.506547 -0.003166  0.997349  0.782491   \n",
       "Total Debt                        -0.001424 -0.003652 -0.001406  0.000301   \n",
       "Net Debt                           0.001046 -0.000371 -0.000709 -0.001965   \n",
       "LT Debt                           -0.001298 -0.003545 -0.001303  0.000712   \n",
       "ST Debt                            0.000275 -0.002704 -0.000339 -0.001022   \n",
       "Cash                              -0.017470  0.034156 -0.006606 -0.000344   \n",
       "Free Cash Flow                     0.027709  0.011691  0.024294  0.017953   \n",
       "Total Debt/EBITDA                 -0.002501 -0.004169 -0.001724  0.000288   \n",
       "Net Debt/EBITDA                   -0.000401  0.000582 -0.000562 -0.002714   \n",
       "Total MV                           0.030909  0.122039 -0.007139  0.002519   \n",
       "Total Debt/MV                     -0.002455 -0.004437 -0.001525 -0.000178   \n",
       "Net Debt/MV                        0.000576 -0.000700 -0.000764 -0.001434   \n",
       "CFO/Debt                           0.009604  0.010269  0.002736  0.000598   \n",
       "CFO                                0.009574  0.009654  0.002478 -0.000034   \n",
       "Interest Coverage                  0.004449 -0.001023  0.001785  0.002103   \n",
       "Total Liquidity                   -0.004889  0.004739 -0.002458 -0.003223   \n",
       "Current Liquidity                 -0.020050  0.045229 -0.007790 -0.000544   \n",
       "Current Liabilities                0.013620 -0.026659  0.003664 -0.006576   \n",
       "EPS Before Extras                  1.000000 -0.006064  0.506586  0.486489   \n",
       "PE                                -0.006064  1.000000 -0.002540 -0.000655   \n",
       "ROA                                0.506586 -0.002540  1.000000  0.788035   \n",
       "ROE                                0.486489 -0.000655  0.788035  1.000000   \n",
       "InvGrd                             0.027645 -0.021736 -0.023101  0.020056   \n",
       "\n",
       "                            InvGrd  \n",
       "Sales/Revenues           -0.080836  \n",
       "Gross Margin             -0.066103  \n",
       "EBITDA                   -0.085951  \n",
       "EBITDA Margin            -0.024112  \n",
       "Net Income Before Extras -0.027919  \n",
       "Total Debt               -0.090372  \n",
       "Net Debt                 -0.042195  \n",
       "LT Debt                  -0.061665  \n",
       "ST Debt                  -0.003028  \n",
       "Cash                     -0.088877  \n",
       "Free Cash Flow            0.026407  \n",
       "Total Debt/EBITDA        -0.089502  \n",
       "Net Debt/EBITDA          -0.030395  \n",
       "Total MV                 -0.095460  \n",
       "Total Debt/MV            -0.086889  \n",
       "Net Debt/MV              -0.039342  \n",
       "CFO/Debt                  0.052756  \n",
       "CFO                       0.049368  \n",
       "Interest Coverage         0.025277  \n",
       "Total Liquidity          -0.016117  \n",
       "Current Liquidity        -0.093658  \n",
       "Current Liabilities       0.019039  \n",
       "EPS Before Extras         0.027645  \n",
       "PE                       -0.021736  \n",
       "ROA                      -0.023101  \n",
       "ROE                       0.020056  \n",
       "InvGrd                    1.000000  \n",
       "\n",
       "[27 rows x 27 columns]"
      ]
     },
     "execution_count": 106,
     "metadata": {},
     "output_type": "execute_result"
    }
   ],
   "source": [
    "corMat = pd.DataFrame(df1.corr())\n",
    "corMat"
   ]
  },
  {
   "cell_type": "code",
   "execution_count": 107,
   "metadata": {},
   "outputs": [
    {
     "data": {
      "image/png": "[encoded data removed]",
      "text/plain": [
       "<Figure size 2160x2160 with 2 Axes>"
      ]
     },
     "metadata": {
      "needs_background": "light"
     },
     "output_type": "display_data"
    }
   ],
   "source": [
    "#Heatmap\n",
    "plt.figure(figsize=(30,30))\n",
    "hm = sns.heatmap(corMat,\n",
    "cbar=True,\n",
    "annot=True,\n",
    "square=True,\n",
    "fmt='.2f',\n",
    "annot_kws={'size':10},\n",
    "yticklabels=df.columns,\n",
    "xticklabels=df.columns)\n",
    "plt.show()"
   ]
  },
  {
   "cell_type": "markdown",
   "metadata": {},
   "source": [
    "## Part I, Binary "
   ]
  },
  {
   "cell_type": "code",
   "execution_count": 8,
   "metadata": {},
   "outputs": [],
   "source": [
    "from sklearn.model_selection import train_test_split\n"
   ]
  },
  {
   "cell_type": "code",
   "execution_count": 9,
   "metadata": {},
   "outputs": [],
   "source": [
    "df_X = df1.iloc[:,:-2]\n",
    "df_y = df1.iloc[:,-2]\n"
   ]
  },
  {
   "cell_type": "code",
   "execution_count": 10,
   "metadata": {},
   "outputs": [
    {
     "data": {
      "text/html": [
       "<div>\n",
       "<style scoped>\n",
       "    .dataframe tbody tr th:only-of-type {\n",
       "        vertical-align: middle;\n",
       "    }\n",
       "\n",
       "    .dataframe tbody tr th {\n",
       "        vertical-align: top;\n",
       "    }\n",
       "\n",
       "    .dataframe thead th {\n",
       "        text-align: right;\n",
       "    }\n",
       "</style>\n",
       "<table border=\"1\" class=\"dataframe\">\n",
       "  <thead>\n",
       "    <tr style=\"text-align: right;\">\n",
       "      <th></th>\n",
       "      <th>Sales/Revenues</th>\n",
       "      <th>Gross Margin</th>\n",
       "      <th>EBITDA</th>\n",
       "      <th>EBITDA Margin</th>\n",
       "      <th>Net Income Before Extras</th>\n",
       "      <th>Total Debt</th>\n",
       "      <th>Net Debt</th>\n",
       "      <th>LT Debt</th>\n",
       "      <th>ST Debt</th>\n",
       "      <th>Cash</th>\n",
       "      <th>...</th>\n",
       "      <th>CFO/Debt</th>\n",
       "      <th>CFO</th>\n",
       "      <th>Interest Coverage</th>\n",
       "      <th>Total Liquidity</th>\n",
       "      <th>Current Liquidity</th>\n",
       "      <th>Current Liabilities</th>\n",
       "      <th>EPS Before Extras</th>\n",
       "      <th>PE</th>\n",
       "      <th>ROA</th>\n",
       "      <th>ROE</th>\n",
       "    </tr>\n",
       "  </thead>\n",
       "  <tbody>\n",
       "    <tr>\n",
       "      <td>0</td>\n",
       "      <td>-0.005496</td>\n",
       "      <td>0.030763</td>\n",
       "      <td>0.018885</td>\n",
       "      <td>0.024515</td>\n",
       "      <td>0.146849</td>\n",
       "      <td>-0.029710</td>\n",
       "      <td>-0.019296</td>\n",
       "      <td>-0.042648</td>\n",
       "      <td>0.049875</td>\n",
       "      <td>-0.133716</td>\n",
       "      <td>...</td>\n",
       "      <td>0.101245</td>\n",
       "      <td>0.068526</td>\n",
       "      <td>0.136748</td>\n",
       "      <td>0.392143</td>\n",
       "      <td>-0.184887</td>\n",
       "      <td>0.062781</td>\n",
       "      <td>0.148305</td>\n",
       "      <td>0.100409</td>\n",
       "      <td>0.163266</td>\n",
       "      <td>0.102521</td>\n",
       "    </tr>\n",
       "    <tr>\n",
       "      <td>1</td>\n",
       "      <td>-0.005496</td>\n",
       "      <td>0.030763</td>\n",
       "      <td>0.088716</td>\n",
       "      <td>0.094733</td>\n",
       "      <td>0.146849</td>\n",
       "      <td>-0.029710</td>\n",
       "      <td>-0.019296</td>\n",
       "      <td>-0.042648</td>\n",
       "      <td>0.049875</td>\n",
       "      <td>-0.133716</td>\n",
       "      <td>...</td>\n",
       "      <td>0.101245</td>\n",
       "      <td>0.068526</td>\n",
       "      <td>0.214657</td>\n",
       "      <td>0.392143</td>\n",
       "      <td>-0.184887</td>\n",
       "      <td>0.062781</td>\n",
       "      <td>0.148305</td>\n",
       "      <td>-0.089598</td>\n",
       "      <td>0.163266</td>\n",
       "      <td>0.102521</td>\n",
       "    </tr>\n",
       "    <tr>\n",
       "      <td>2</td>\n",
       "      <td>-0.007045</td>\n",
       "      <td>0.023159</td>\n",
       "      <td>0.088716</td>\n",
       "      <td>0.096440</td>\n",
       "      <td>0.108590</td>\n",
       "      <td>0.039410</td>\n",
       "      <td>0.034268</td>\n",
       "      <td>0.009059</td>\n",
       "      <td>0.250371</td>\n",
       "      <td>0.101315</td>\n",
       "      <td>...</td>\n",
       "      <td>0.027638</td>\n",
       "      <td>0.068136</td>\n",
       "      <td>0.205290</td>\n",
       "      <td>0.483257</td>\n",
       "      <td>-0.017877</td>\n",
       "      <td>0.121357</td>\n",
       "      <td>0.110656</td>\n",
       "      <td>-0.045142</td>\n",
       "      <td>0.105711</td>\n",
       "      <td>0.103378</td>\n",
       "    </tr>\n",
       "    <tr>\n",
       "      <td>3</td>\n",
       "      <td>-0.009396</td>\n",
       "      <td>0.028400</td>\n",
       "      <td>0.088716</td>\n",
       "      <td>0.099046</td>\n",
       "      <td>0.146137</td>\n",
       "      <td>0.030071</td>\n",
       "      <td>0.036938</td>\n",
       "      <td>-0.016964</td>\n",
       "      <td>0.356994</td>\n",
       "      <td>-0.052606</td>\n",
       "      <td>...</td>\n",
       "      <td>0.042437</td>\n",
       "      <td>0.073784</td>\n",
       "      <td>0.232991</td>\n",
       "      <td>0.996955</td>\n",
       "      <td>-0.122017</td>\n",
       "      <td>0.079051</td>\n",
       "      <td>0.151639</td>\n",
       "      <td>-0.008231</td>\n",
       "      <td>0.162421</td>\n",
       "      <td>0.132295</td>\n",
       "    </tr>\n",
       "    <tr>\n",
       "      <td>4</td>\n",
       "      <td>-0.009009</td>\n",
       "      <td>0.027714</td>\n",
       "      <td>0.088716</td>\n",
       "      <td>0.098611</td>\n",
       "      <td>0.123500</td>\n",
       "      <td>0.024224</td>\n",
       "      <td>0.034445</td>\n",
       "      <td>-0.034132</td>\n",
       "      <td>0.461894</td>\n",
       "      <td>-0.090869</td>\n",
       "      <td>...</td>\n",
       "      <td>0.106052</td>\n",
       "      <td>0.132845</td>\n",
       "      <td>0.172906</td>\n",
       "      <td>1.711426</td>\n",
       "      <td>-0.161561</td>\n",
       "      <td>0.084319</td>\n",
       "      <td>0.130435</td>\n",
       "      <td>0.015528</td>\n",
       "      <td>0.156427</td>\n",
       "      <td>0.225144</td>\n",
       "    </tr>\n",
       "  </tbody>\n",
       "</table>\n",
       "<p>5 rows × 26 columns</p>\n",
       "</div>"
      ],
      "text/plain": [
       "   Sales/Revenues  Gross Margin    EBITDA  EBITDA Margin  \\\n",
       "0       -0.005496      0.030763  0.018885       0.024515   \n",
       "1       -0.005496      0.030763  0.088716       0.094733   \n",
       "2       -0.007045      0.023159  0.088716       0.096440   \n",
       "3       -0.009396      0.028400  0.088716       0.099046   \n",
       "4       -0.009009      0.027714  0.088716       0.098611   \n",
       "\n",
       "   Net Income Before Extras  Total Debt  Net Debt   LT Debt   ST Debt  \\\n",
       "0                  0.146849   -0.029710 -0.019296 -0.042648  0.049875   \n",
       "1                  0.146849   -0.029710 -0.019296 -0.042648  0.049875   \n",
       "2                  0.108590    0.039410  0.034268  0.009059  0.250371   \n",
       "3                  0.146137    0.030071  0.036938 -0.016964  0.356994   \n",
       "4                  0.123500    0.024224  0.034445 -0.034132  0.461894   \n",
       "\n",
       "       Cash  ...  CFO/Debt       CFO  Interest Coverage  Total Liquidity  \\\n",
       "0 -0.133716  ...  0.101245  0.068526           0.136748         0.392143   \n",
       "1 -0.133716  ...  0.101245  0.068526           0.214657         0.392143   \n",
       "2  0.101315  ...  0.027638  0.068136           0.205290         0.483257   \n",
       "3 -0.052606  ...  0.042437  0.073784           0.232991         0.996955   \n",
       "4 -0.090869  ...  0.106052  0.132845           0.172906         1.711426   \n",
       "\n",
       "   Current Liquidity  Current Liabilities  EPS Before Extras        PE  \\\n",
       "0          -0.184887             0.062781           0.148305  0.100409   \n",
       "1          -0.184887             0.062781           0.148305 -0.089598   \n",
       "2          -0.017877             0.121357           0.110656 -0.045142   \n",
       "3          -0.122017             0.079051           0.151639 -0.008231   \n",
       "4          -0.161561             0.084319           0.130435  0.015528   \n",
       "\n",
       "        ROA       ROE  \n",
       "0  0.163266  0.102521  \n",
       "1  0.163266  0.102521  \n",
       "2  0.105711  0.103378  \n",
       "3  0.162421  0.132295  \n",
       "4  0.156427  0.225144  \n",
       "\n",
       "[5 rows x 26 columns]"
      ]
     },
     "execution_count": 10,
     "metadata": {},
     "output_type": "execute_result"
    }
   ],
   "source": [
    "df_X.head()"
   ]
  },
  {
   "cell_type": "code",
   "execution_count": 11,
   "metadata": {},
   "outputs": [
    {
     "data": {
      "text/plain": [
       "0    1\n",
       "1    1\n",
       "2    1\n",
       "3    1\n",
       "4    1\n",
       "Name: InvGrd, dtype: int64"
      ]
     },
     "execution_count": 11,
     "metadata": {},
     "output_type": "execute_result"
    }
   ],
   "source": [
    "df_y.head()"
   ]
  },
  {
   "cell_type": "code",
   "execution_count": 12,
   "metadata": {},
   "outputs": [],
   "source": [
    "from sklearn.ensemble import RandomForestRegressor\n",
    "from sklearn.model_selection import cross_val_score\n",
    "from sklearn.model_selection import cross_validate\n",
    "# from sklearn.grid_search import GridSearchCV\n",
    "from sklearn.model_selection import GridSearchCV\n",
    "from sklearn.preprocessing import MinMaxScaler"
   ]
  },
  {
   "cell_type": "markdown",
   "metadata": {},
   "source": [
    "## Normalized and PCA "
   ]
  },
  {
   "cell_type": "code",
   "execution_count": 13,
   "metadata": {},
   "outputs": [],
   "source": [
    "from sklearn.decomposition import PCA\n",
    "from sklearn.preprocessing import StandardScaler\n",
    "from sklearn.pipeline import make_pipeline\n",
    "import matplotlib.pyplot as plt\n"
   ]
  },
  {
   "cell_type": "code",
   "execution_count": 14,
   "metadata": {},
   "outputs": [],
   "source": [
    "df = df1.iloc[:,:-2]"
   ]
  },
  {
   "cell_type": "code",
   "execution_count": 15,
   "metadata": {},
   "outputs": [
    {
     "data": {
      "image/png": "[encoded data removed]",
      "text/plain": [
       "<Figure size 432x288 with 1 Axes>"
      ]
     },
     "metadata": {
      "needs_background": "light"
     },
     "output_type": "display_data"
    }
   ],
   "source": [
    "MMscale = MinMaxScaler().fit(df_X)\n",
    "df_X = MMscale.transform(df_X)\n",
    "\n",
    "# Create scaler: scaler\n",
    "scaler = StandardScaler()\n",
    "\n",
    "# Create a PCA instance: pca\n",
    "pca = PCA()\n",
    "\n",
    "# Create pipeline: pipeline\n",
    "pipeline = make_pipeline(scaler,pca)\n",
    "\n",
    "# Fit the pipeline to 'samples'\n",
    "pipeline.fit(df_X)\n",
    "\n",
    "# Plot the explained variances\n",
    "features = range(pca.n_components_)\n",
    "plt.bar(features, pca.explained_variance_)\n",
    "plt.xlabel('PCA feature')\n",
    "plt.ylabel('variance')\n",
    "plt.xticks(features)\n",
    "plt.show()\n",
    "## Shows that "
   ]
  },
  {
   "cell_type": "code",
   "execution_count": 88,
   "metadata": {},
   "outputs": [],
   "source": [
    "X = df1.iloc[:,:-2]\n",
    "y = df1.iloc[:,-2]"
   ]
  },
  {
   "cell_type": "code",
   "execution_count": 89,
   "metadata": {},
   "outputs": [],
   "source": [
    "##data without PCA\n",
    "X_train, X_test, y_train, y_test = train_test_split(X, y, test_size=0.2, random_state=42)"
   ]
  },
  {
   "cell_type": "code",
   "execution_count": 90,
   "metadata": {},
   "outputs": [],
   "source": [
    "pca=PCA(n_components=7)\n",
    "X_train_pca=pca.fit_transform(X_train)\n",
    "X_test_pca=pca.fit_transform(X_test)"
   ]
  },
  {
   "cell_type": "code",
   "execution_count": 91,
   "metadata": {},
   "outputs": [
    {
     "name": "stdout",
     "output_type": "stream",
     "text": [
      "(1360, 7)\n",
      "(340, 7)\n"
     ]
    }
   ],
   "source": [
    "print(X_train_pca.shape)\n",
    "print(X_test_pca.shape)"
   ]
  },
  {
   "cell_type": "markdown",
   "metadata": {},
   "source": [
    "# Binary "
   ]
  },
  {
   "cell_type": "markdown",
   "metadata": {},
   "source": [
    "### Logistic Regression without PCA"
   ]
  },
  {
   "cell_type": "code",
   "execution_count": 20,
   "metadata": {},
   "outputs": [],
   "source": [
    "from sklearn.linear_model import LogisticRegression"
   ]
  },
  {
   "cell_type": "code",
   "execution_count": 21,
   "metadata": {},
   "outputs": [],
   "source": [
    "logreg = LogisticRegression()"
   ]
  },
  {
   "cell_type": "code",
   "execution_count": 22,
   "metadata": {},
   "outputs": [],
   "source": [
    "c_space = np.logspace(0, 5, 50)\n",
    "param_grid = {'C': c_space, 'penalty': ['l1', 'l2']}\n",
    "logreg_cv = GridSearchCV(logreg, param_grid, cv=10)\n"
   ]
  },
  {
   "cell_type": "code",
   "execution_count": 82,
   "metadata": {},
   "outputs": [],
   "source": [
    "from sklearn.linear_model import LogisticRegression\n",
    "from sklearn.metrics import accuracy_score"
   ]
  },
  {
   "cell_type": "code",
   "execution_count": 24,
   "metadata": {},
   "outputs": [
    {
     "name": "stderr",
     "output_type": "stream",
     "text": [
      "/Users/zhuoyuanzhang/anaconda3/lib/python3.7/site-packages/sklearn/linear_model/logistic.py:432: FutureWarning: Default solver will be changed to 'lbfgs' in 0.22. Specify a solver to silence this warning.\n",
      "  FutureWarning)\n"
     ]
    },
    {
     "data": {
      "text/plain": [
       "LogisticRegression(C=1.0, class_weight=None, dual=False, fit_intercept=True,\n",
       "                   intercept_scaling=1, l1_ratio=None, max_iter=100,\n",
       "                   multi_class='warn', n_jobs=None, penalty='l2',\n",
       "                   random_state=None, solver='warn', tol=0.0001, verbose=0,\n",
       "                   warm_start=False)"
      ]
     },
     "execution_count": 24,
     "metadata": {},
     "output_type": "execute_result"
    }
   ],
   "source": [
    "log_untune = LogisticRegression()\n",
    "log_untune.fit(X_train,y_train)\n"
   ]
  },
  {
   "cell_type": "code",
   "execution_count": 25,
   "metadata": {},
   "outputs": [],
   "source": [
    "y_pred_log_ut = log_untune.predict(X_test)"
   ]
  },
  {
   "cell_type": "code",
   "execution_count": 26,
   "metadata": {},
   "outputs": [],
   "source": [
    "logreg_acc = accuracy_score(y_pred_log_ut,y_test)"
   ]
  },
  {
   "cell_type": "code",
   "execution_count": 105,
   "metadata": {},
   "outputs": [
    {
     "data": {
      "text/plain": [
       "0.7676470588235295"
      ]
     },
     "execution_count": 105,
     "metadata": {},
     "output_type": "execute_result"
    }
   ],
   "source": [
    "logreg_acc"
   ]
  },
  {
   "cell_type": "code",
   "execution_count": 28,
   "metadata": {},
   "outputs": [],
   "source": [
    "from sklearn.metrics import roc_auc_score\n",
    "from sklearn.metrics import roc_curve"
   ]
  },
  {
   "cell_type": "code",
   "execution_count": 30,
   "metadata": {},
   "outputs": [],
   "source": [
    "from sklearn.metrics import classification_report\n"
   ]
  },
  {
   "cell_type": "code",
   "execution_count": 31,
   "metadata": {},
   "outputs": [
    {
     "name": "stdout",
     "output_type": "stream",
     "text": [
      "              precision    recall  f1-score   support\n",
      "\n",
      "           0       0.73      0.10      0.17        84\n",
      "           1       0.77      0.99      0.86       256\n",
      "\n",
      "    accuracy                           0.77       340\n",
      "   macro avg       0.75      0.54      0.52       340\n",
      "weighted avg       0.76      0.77      0.69       340\n",
      "\n"
     ]
    }
   ],
   "source": [
    "print(classification_report(y_test, y_pred_log_ut))"
   ]
  },
  {
   "cell_type": "code",
   "execution_count": null,
   "metadata": {},
   "outputs": [],
   "source": []
  },
  {
   "cell_type": "code",
   "execution_count": 32,
   "metadata": {},
   "outputs": [
    {
     "name": "stderr",
     "output_type": "stream",
     "text": [
      "/Users/zhuoyuanzhang/anaconda3/lib/python3.7/site-packages/sklearn/linear_model/logistic.py:432: FutureWarning: Default solver will be changed to 'lbfgs' in 0.22. Specify a solver to silence this warning.\n",
      "  FutureWarning)\n"
     ]
    },
    {
     "data": {
      "image/png": "[encoded data removed]",
      "text/plain": [
       "<Figure size 432x288 with 1 Axes>"
      ]
     },
     "metadata": {
      "needs_background": "light"
     },
     "output_type": "display_data"
    }
   ],
   "source": [
    "logit_roc_auc = roc_auc_score(y_test, y_pred_log_ut)\n",
    "log_untune.fit(X_train,y_train)\n",
    "fpr, tpr, thresholds = roc_curve(y_test, log_untune.predict_proba(X_test)[:,1])\n",
    "plt.figure()\n",
    "plt.plot(fpr, tpr, label='Logistic Regression (area = %0.2f)' % logit_roc_auc)\n",
    "plt.plot([0, 1], [0, 1],'r--')\n",
    "plt.xlim([0.0, 1.0])\n",
    "plt.ylim([0.0, 1.05])\n",
    "plt.xlabel('False Positive Rate')\n",
    "plt.ylabel('True Positive Rate')\n",
    "plt.title('Receiver operating characteristic')\n",
    "plt.legend(loc=\"lower right\")\n",
    "plt.savefig('Log_ROC')\n",
    "plt.show()"
   ]
  },
  {
   "cell_type": "code",
   "execution_count": 33,
   "metadata": {},
   "outputs": [
    {
     "name": "stdout",
     "output_type": "stream",
     "text": [
      "              precision    recall  f1-score   support\n",
      "\n",
      "           0       0.73      0.10      0.17        84\n",
      "           1       0.77      0.99      0.86       256\n",
      "\n",
      "    accuracy                           0.77       340\n",
      "   macro avg       0.75      0.54      0.52       340\n",
      "weighted avg       0.76      0.77      0.69       340\n",
      "\n",
      "0.7676470588235295\n"
     ]
    }
   ],
   "source": [
    "print(classification_report(y_test, y_pred_log_ut))\n",
    "print(logreg_acc)"
   ]
  },
  {
   "cell_type": "markdown",
   "metadata": {},
   "source": [
    "### Logistics with PCA"
   ]
  },
  {
   "cell_type": "code",
   "execution_count": 34,
   "metadata": {},
   "outputs": [
    {
     "name": "stdout",
     "output_type": "stream",
     "text": [
      "0.7470588235294118\n"
     ]
    },
    {
     "name": "stderr",
     "output_type": "stream",
     "text": [
      "/Users/zhuoyuanzhang/anaconda3/lib/python3.7/site-packages/sklearn/linear_model/logistic.py:432: FutureWarning: Default solver will be changed to 'lbfgs' in 0.22. Specify a solver to silence this warning.\n",
      "  FutureWarning)\n"
     ]
    }
   ],
   "source": [
    "from sklearn.linear_model import LogisticRegression\n",
    "logreg = LogisticRegression()\n",
    "log_untune_pca = LogisticRegression()\n",
    "log_untune_pca.fit(X_train_pca,y_train)\n",
    "y_pred_log_ut_pca = log_untune_pca.predict(X_test_pca)\n",
    "logreg_acc_pca = accuracy_score(y_pred_log_ut_pca,y_test)\n",
    "print(logreg_acc_pca)"
   ]
  },
  {
   "cell_type": "code",
   "execution_count": 35,
   "metadata": {},
   "outputs": [
    {
     "name": "stdout",
     "output_type": "stream",
     "text": [
      "              precision    recall  f1-score   support\n",
      "\n",
      "           0       0.25      0.01      0.02        84\n",
      "           1       0.75      0.99      0.85       256\n",
      "\n",
      "    accuracy                           0.75       340\n",
      "   macro avg       0.50      0.50      0.44       340\n",
      "weighted avg       0.63      0.75      0.65       340\n",
      "\n"
     ]
    }
   ],
   "source": [
    "print(classification_report(y_test, y_pred_log_ut_pca))"
   ]
  },
  {
   "cell_type": "code",
   "execution_count": 36,
   "metadata": {},
   "outputs": [
    {
     "name": "stderr",
     "output_type": "stream",
     "text": [
      "/Users/zhuoyuanzhang/anaconda3/lib/python3.7/site-packages/sklearn/linear_model/logistic.py:432: FutureWarning: Default solver will be changed to 'lbfgs' in 0.22. Specify a solver to silence this warning.\n",
      "  FutureWarning)\n"
     ]
    },
    {
     "data": {
      "image/png": "[encoded data removed]",
      "text/plain": [
       "<Figure size 432x288 with 1 Axes>"
      ]
     },
     "metadata": {
      "needs_background": "light"
     },
     "output_type": "display_data"
    }
   ],
   "source": [
    "logit_roc_auc_pca = roc_auc_score(y_test, y_pred_log_ut_pca)\n",
    "log_untune_pca.fit(X_train_pca,y_train)\n",
    "fpr, tpr, thresholds = roc_curve(y_test, log_untune_pca.predict_proba(X_test_pca)[:,1])\n",
    "plt.figure()\n",
    "plt.plot(fpr, tpr, label='Logistic Regression (area = %0.2f)' % logit_roc_auc_pca)\n",
    "plt.plot([0, 1], [0, 1],'r--')\n",
    "plt.xlim([0.0, 1.0])\n",
    "plt.ylim([0.0, 1.05])\n",
    "plt.xlabel('False Positive Rate')\n",
    "plt.ylabel('True Positive Rate')\n",
    "plt.title('Receiver operating characteristic')\n",
    "plt.legend(loc=\"lower right\")\n",
    "plt.savefig('Log_ROC')\n",
    "plt.show()"
   ]
  },
  {
   "cell_type": "markdown",
   "metadata": {},
   "source": [
    "### SVC"
   ]
  },
  {
   "cell_type": "code",
   "execution_count": 37,
   "metadata": {},
   "outputs": [],
   "source": [
    "from sklearn.svm import SVC"
   ]
  },
  {
   "cell_type": "code",
   "execution_count": 39,
   "metadata": {},
   "outputs": [
    {
     "name": "stderr",
     "output_type": "stream",
     "text": [
      "/Users/zhuoyuanzhang/anaconda3/lib/python3.7/site-packages/sklearn/svm/base.py:193: FutureWarning: The default value of gamma will change from 'auto' to 'scale' in version 0.22 to account better for unscaled features. Set gamma explicitly to 'auto' or 'scale' to avoid this warning.\n",
      "  \"avoid this warning.\", FutureWarning)\n"
     ]
    },
    {
     "data": {
      "text/plain": [
       "SVC(C=1.0, cache_size=200, class_weight=None, coef0=0.0,\n",
       "    decision_function_shape='ovr', degree=3, gamma='auto_deprecated',\n",
       "    kernel='rbf', max_iter=-1, probability=False, random_state=None,\n",
       "    shrinking=True, tol=0.001, verbose=False)"
      ]
     },
     "execution_count": 39,
     "metadata": {},
     "output_type": "execute_result"
    }
   ],
   "source": [
    "svc = SVC()\n",
    "svc.fit(X_train,y_train)\n"
   ]
  },
  {
   "cell_type": "code",
   "execution_count": 40,
   "metadata": {},
   "outputs": [
    {
     "name": "stdout",
     "output_type": "stream",
     "text": [
      "0.7823529411764706\n"
     ]
    }
   ],
   "source": [
    "y_pred_svc = svc.predict(X_test)\n",
    "svc_acc=accuracy_score(y_pred_svc,y_test)\n",
    "print(svc_acc)"
   ]
  },
  {
   "cell_type": "markdown",
   "metadata": {},
   "source": [
    "### SVC with PCA"
   ]
  },
  {
   "cell_type": "code",
   "execution_count": 42,
   "metadata": {},
   "outputs": [
    {
     "name": "stdout",
     "output_type": "stream",
     "text": [
      "0.7529411764705882\n"
     ]
    },
    {
     "name": "stderr",
     "output_type": "stream",
     "text": [
      "/Users/zhuoyuanzhang/anaconda3/lib/python3.7/site-packages/sklearn/svm/base.py:193: FutureWarning: The default value of gamma will change from 'auto' to 'scale' in version 0.22 to account better for unscaled features. Set gamma explicitly to 'auto' or 'scale' to avoid this warning.\n",
      "  \"avoid this warning.\", FutureWarning)\n"
     ]
    }
   ],
   "source": [
    "from sklearn.svm import SVC\n",
    "\n",
    "svc_untune_pca = SVC()\n",
    "svc_untune_pca.fit(X_train_pca,y_train)\n",
    "y_pred_svc_ut_pca = svc_untune_pca.predict(X_test_pca)\n",
    "svc_acc_pca = accuracy_score(y_pred_svc_ut_pca,y_test)\n",
    "print(svc_acc_pca)"
   ]
  },
  {
   "cell_type": "code",
   "execution_count": 43,
   "metadata": {},
   "outputs": [
    {
     "name": "stdout",
     "output_type": "stream",
     "text": [
      "              precision    recall  f1-score   support\n",
      "\n",
      "           0       0.00      0.00      0.00        84\n",
      "           1       0.75      1.00      0.86       256\n",
      "\n",
      "    accuracy                           0.75       340\n",
      "   macro avg       0.38      0.50      0.43       340\n",
      "weighted avg       0.57      0.75      0.65       340\n",
      "\n"
     ]
    },
    {
     "name": "stderr",
     "output_type": "stream",
     "text": [
      "/Users/zhuoyuanzhang/anaconda3/lib/python3.7/site-packages/sklearn/metrics/classification.py:1437: UndefinedMetricWarning: Precision and F-score are ill-defined and being set to 0.0 in labels with no predicted samples.\n",
      "  'precision', 'predicted', average, warn_for)\n",
      "/Users/zhuoyuanzhang/anaconda3/lib/python3.7/site-packages/sklearn/metrics/classification.py:1437: UndefinedMetricWarning: Precision and F-score are ill-defined and being set to 0.0 in labels with no predicted samples.\n",
      "  'precision', 'predicted', average, warn_for)\n",
      "/Users/zhuoyuanzhang/anaconda3/lib/python3.7/site-packages/sklearn/metrics/classification.py:1437: UndefinedMetricWarning: Precision and F-score are ill-defined and being set to 0.0 in labels with no predicted samples.\n",
      "  'precision', 'predicted', average, warn_for)\n"
     ]
    }
   ],
   "source": [
    "print(classification_report(y_test, y_pred_svc_ut_pca))"
   ]
  },
  {
   "cell_type": "markdown",
   "metadata": {},
   "source": [
    "### KNN"
   ]
  },
  {
   "cell_type": "code",
   "execution_count": 44,
   "metadata": {},
   "outputs": [],
   "source": [
    "from sklearn.neighbors import KNeighborsClassifier"
   ]
  },
  {
   "cell_type": "code",
   "execution_count": 45,
   "metadata": {},
   "outputs": [
    {
     "data": {
      "text/plain": [
       "KNeighborsClassifier(algorithm='auto', leaf_size=30, metric='minkowski',\n",
       "                     metric_params=None, n_jobs=None, n_neighbors=5, p=2,\n",
       "                     weights='uniform')"
      ]
     },
     "execution_count": 45,
     "metadata": {},
     "output_type": "execute_result"
    }
   ],
   "source": [
    "knn = KNeighborsClassifier(n_neighbors=5)\n",
    "knn.fit(X_train,y_train)"
   ]
  },
  {
   "cell_type": "code",
   "execution_count": 46,
   "metadata": {},
   "outputs": [],
   "source": [
    "y_pred_knn = knn.predict(X_test)\n"
   ]
  },
  {
   "cell_type": "code",
   "execution_count": 47,
   "metadata": {},
   "outputs": [],
   "source": [
    "knn_acc=accuracy_score(y_pred_knn,y_test)"
   ]
  },
  {
   "cell_type": "code",
   "execution_count": 48,
   "metadata": {},
   "outputs": [
    {
     "data": {
      "text/plain": [
       "0.8"
      ]
     },
     "execution_count": 48,
     "metadata": {},
     "output_type": "execute_result"
    }
   ],
   "source": [
    "print(knn_acc)"
   ]
  },
  {
   "cell_type": "code",
   "execution_count": 49,
   "metadata": {},
   "outputs": [
    {
     "data": {
      "text/plain": [
       "0.7676470588235295"
      ]
     },
     "execution_count": 49,
     "metadata": {},
     "output_type": "execute_result"
    }
   ],
   "source": [
    "logreg_acc "
   ]
  },
  {
   "cell_type": "code",
   "execution_count": 50,
   "metadata": {},
   "outputs": [
    {
     "data": {
      "text/plain": [
       "0.7823529411764706"
      ]
     },
     "execution_count": 50,
     "metadata": {},
     "output_type": "execute_result"
    }
   ],
   "source": [
    "svc_acc"
   ]
  },
  {
   "cell_type": "markdown",
   "metadata": {},
   "source": []
  },
  {
   "cell_type": "markdown",
   "metadata": {},
   "source": [
    "### KNN with pca"
   ]
  },
  {
   "cell_type": "code",
   "execution_count": 96,
   "metadata": {},
   "outputs": [],
   "source": [
    "from sklearn.neighbors import KNeighborsClassifier"
   ]
  },
  {
   "cell_type": "code",
   "execution_count": 97,
   "metadata": {},
   "outputs": [
    {
     "name": "stdout",
     "output_type": "stream",
     "text": [
      "0.7411764705882353\n"
     ]
    }
   ],
   "source": [
    "knn_pca = KNeighborsClassifier(n_neighbors=5)\n",
    "knn_pca.fit(X_train_pca,y_train)\n",
    "y_pred_knn_pca = knn_pca.predict(X_test_pca)\n",
    "knn_acc_pca=accuracy_score(y_pred_knn_pca,y_test)\n",
    "print(knn_acc_pca)"
   ]
  },
  {
   "cell_type": "markdown",
   "metadata": {},
   "source": [
    "### KNN Tuned"
   ]
  },
  {
   "cell_type": "code",
   "execution_count": 110,
   "metadata": {},
   "outputs": [
    {
     "name": "stdout",
     "output_type": "stream",
     "text": [
      "Best CV params {'n_neighbors': 3}\n",
      "Best CV accuracy 0.8051470588235294\n",
      "Test accurarcy of best grid search hypers: 0.9022058823529412\n"
     ]
    }
   ],
   "source": [
    "knn_tuned = KNeighborsClassifier()\n",
    "knn_tuned.fit(X_train,y_train)\n",
    "parameters ={'n_neighbors':[2,3,4,5,6,7,8,9]}\n",
    "gs_knn = GridSearchCV(knn_tuned,parameters,cv=10)\n",
    "gs_knn.fit(X_train,y_train)\n",
    "print('Best CV params',gs_knn.best_params_)\n",
    "print('Best CV accuracy',gs_knn.best_score_)\n",
    "print('Test accurarcy of best grid search hypers:',gs_knn.score(X_train,y_train))"
   ]
  },
  {
   "cell_type": "markdown",
   "metadata": {},
   "source": [
    "### Ensembling "
   ]
  },
  {
   "cell_type": "code",
   "execution_count": 112,
   "metadata": {},
   "outputs": [],
   "source": [
    "param_grid = {\n",
    "                 'n_estimators': [20,25,30,35,40,45,50],\n",
    "                 'max_depth': [12, 13, 14, 15, 16, 17],\n",
    "                'criterion':['gini','entropy']\n",
    "             }"
   ]
  },
  {
   "cell_type": "code",
   "execution_count": 113,
   "metadata": {},
   "outputs": [
    {
     "name": "stdout",
     "output_type": "stream",
     "text": [
      "Tuned Random Forest Parameter: {'criterion': 'gini', 'max_depth': 16, 'n_estimators': 50}\n",
      "Tuned Random Forest Accuracy: 0.8727941176470588\n"
     ]
    }
   ],
   "source": [
    "rf = RandomForestClassifier()\n",
    "grid_rf_binary = GridSearchCV(rf, param_grid,cv = 10)\n",
    "grid_rf_binary.fit(X_train, y_train)\n",
    "print(\"Tuned Random Forest Parameter: {}\".format(grid_rf_binary.best_params_))\n",
    "print(\"Tuned Random Forest Accuracy: {}\".format(grid_rf_binary.best_score_))"
   ]
  },
  {
   "cell_type": "code",
   "execution_count": null,
   "metadata": {},
   "outputs": [],
   "source": []
  },
  {
   "cell_type": "code",
   "execution_count": null,
   "metadata": {},
   "outputs": [],
   "source": []
  },
  {
   "cell_type": "markdown",
   "metadata": {},
   "source": [
    "# Multiclass"
   ]
  },
  {
   "cell_type": "code",
   "execution_count": 53,
   "metadata": {},
   "outputs": [],
   "source": [
    "y_multi = df1.iloc[:,-1]"
   ]
  },
  {
   "cell_type": "code",
   "execution_count": 54,
   "metadata": {},
   "outputs": [
    {
     "data": {
      "text/plain": [
       "0    A1\n",
       "1    A1\n",
       "2    A1\n",
       "3    A1\n",
       "4    A1\n",
       "Name: Rating, dtype: object"
      ]
     },
     "execution_count": 54,
     "metadata": {},
     "output_type": "execute_result"
    }
   ],
   "source": [
    "y_multi.head()"
   ]
  },
  {
   "cell_type": "code",
   "execution_count": 55,
   "metadata": {},
   "outputs": [],
   "source": [
    "X_train_multi, X_test_multi, y_train_multi, y_test_multi = train_test_split(X, y_multi, test_size=0.2, random_state=42)"
   ]
  },
  {
   "cell_type": "code",
   "execution_count": 56,
   "metadata": {},
   "outputs": [
    {
     "data": {
      "text/plain": [
       "(1360, 26)"
      ]
     },
     "execution_count": 56,
     "metadata": {},
     "output_type": "execute_result"
    }
   ],
   "source": [
    "X_train_multi.shape\n"
   ]
  },
  {
   "cell_type": "markdown",
   "metadata": {},
   "source": [
    "### Logistic"
   ]
  },
  {
   "cell_type": "code",
   "execution_count": 114,
   "metadata": {},
   "outputs": [],
   "source": [
    "from sklearn.model_selection import train_test_split\n",
    "from sklearn.linear_model import LogisticRegression\n",
    "from sklearn.model_selection import GridSearchCV\n",
    "import math\n"
   ]
  },
  {
   "cell_type": "code",
   "execution_count": 64,
   "metadata": {},
   "outputs": [
    {
     "name": "stderr",
     "output_type": "stream",
     "text": [
      "/Users/zhuoyuanzhang/anaconda3/lib/python3.7/site-packages/sklearn/linear_model/logistic.py:432: FutureWarning: Default solver will be changed to 'lbfgs' in 0.22. Specify a solver to silence this warning.\n",
      "  FutureWarning)\n",
      "/Users/zhuoyuanzhang/anaconda3/lib/python3.7/site-packages/sklearn/linear_model/logistic.py:469: FutureWarning: Default multi_class will be changed to 'auto' in 0.22. Specify the multi_class option to silence this warning.\n",
      "  \"this warning.\", FutureWarning)\n"
     ]
    },
    {
     "name": "stdout",
     "output_type": "stream",
     "text": [
      "0.19117647058823528\n"
     ]
    }
   ],
   "source": [
    "from sklearn.linear_model import LogisticRegression\n",
    "logreg = LogisticRegression()\n",
    "log_multi = LogisticRegression()\n",
    "log_multi.fit(X_train_multi,y_train_multi)\n",
    "y_pred_log_multi = log_multi.predict(X_test_multi)\n",
    "logreg_acc_multi = accuracy_score(y_pred_log_multi,y_test_multi)\n",
    "print(logreg_acc_multi)"
   ]
  },
  {
   "cell_type": "code",
   "execution_count": 65,
   "metadata": {},
   "outputs": [
    {
     "name": "stderr",
     "output_type": "stream",
     "text": [
      "/Users/zhuoyuanzhang/anaconda3/lib/python3.7/site-packages/sklearn/linear_model/logistic.py:432: FutureWarning: Default solver will be changed to 'lbfgs' in 0.22. Specify a solver to silence this warning.\n",
      "  FutureWarning)\n",
      "/Users/zhuoyuanzhang/anaconda3/lib/python3.7/site-packages/sklearn/linear_model/logistic.py:469: FutureWarning: Default multi_class will be changed to 'auto' in 0.22. Specify the multi_class option to silence this warning.\n",
      "  \"this warning.\", FutureWarning)\n"
     ]
    },
    {
     "name": "stdout",
     "output_type": "stream",
     "text": [
      "0.19411764705882353\n"
     ]
    }
   ],
   "source": [
    "from sklearn.linear_model import LogisticRegression\n",
    "\n",
    "log_multi_tuned = LogisticRegression(C=3.526315789473684)\n",
    "log_multi_tuned.fit(X_train_multi,y_train_multi)\n",
    "y_pred_log_multi_tuned = log_multi_tuned.predict(X_test_multi)\n",
    "logreg_acc_multi_tuned = accuracy_score(y_pred_log_multi_tuned,y_test_multi)\n",
    "print(logreg_acc_multi_tuned)"
   ]
  },
  {
   "cell_type": "markdown",
   "metadata": {},
   "source": [
    "### Ridge classifier"
   ]
  },
  {
   "cell_type": "code",
   "execution_count": 254,
   "metadata": {},
   "outputs": [],
   "source": [
    "from sklearn.linear_model import RidgeClassifier"
   ]
  },
  {
   "cell_type": "code",
   "execution_count": 259,
   "metadata": {},
   "outputs": [
    {
     "name": "stdout",
     "output_type": "stream",
     "text": [
      "0.18235294117647058\n"
     ]
    }
   ],
   "source": [
    "ridge = RidgeClassifier()\n",
    "ridge.fit(X_train_multi,y_train_multi)\n",
    "y_pred_ridge_multi = ridge.predict(X_test_multi)\n",
    "ridge_multi_acc = accuracy_score(y_pred_ridge_multi,y_test_multi)\n",
    "print(ridge_multi_acc)"
   ]
  },
  {
   "cell_type": "code",
   "execution_count": null,
   "metadata": {},
   "outputs": [],
   "source": []
  },
  {
   "cell_type": "markdown",
   "metadata": {},
   "source": [
    "### SVC"
   ]
  },
  {
   "cell_type": "code",
   "execution_count": 83,
   "metadata": {},
   "outputs": [
    {
     "name": "stdout",
     "output_type": "stream",
     "text": [
      "0.3176470588235294\n"
     ]
    },
    {
     "name": "stderr",
     "output_type": "stream",
     "text": [
      "/Users/zhuoyuanzhang/anaconda3/lib/python3.7/site-packages/sklearn/svm/base.py:193: FutureWarning: The default value of gamma will change from 'auto' to 'scale' in version 0.22 to account better for unscaled features. Set gamma explicitly to 'auto' or 'scale' to avoid this warning.\n",
      "  \"avoid this warning.\", FutureWarning)\n"
     ]
    }
   ],
   "source": [
    "from sklearn.svm import SVC\n",
    "\n",
    "svc_untune_multi = SVC()\n",
    "svc_untune_multi.fit(X_train_multi,y_train_multi)\n",
    "y_pred_svc_ut_multi = svc_untune_multi.predict(X_test_multi)\n",
    "svc_acc_multi = accuracy_score(y_pred_svc_ut_multi,y_test_multi)\n",
    "print(svc_acc_multi)"
   ]
  },
  {
   "cell_type": "code",
   "execution_count": null,
   "metadata": {},
   "outputs": [],
   "source": []
  },
  {
   "cell_type": "code",
   "execution_count": 74,
   "metadata": {},
   "outputs": [
    {
     "name": "stderr",
     "output_type": "stream",
     "text": [
      "/Users/zhuoyuanzhang/anaconda3/lib/python3.7/site-packages/sklearn/svm/base.py:193: FutureWarning: The default value of gamma will change from 'auto' to 'scale' in version 0.22 to account better for unscaled features. Set gamma explicitly to 'auto' or 'scale' to avoid this warning.\n",
      "  \"avoid this warning.\", FutureWarning)\n",
      "/Users/zhuoyuanzhang/anaconda3/lib/python3.7/site-packages/sklearn/model_selection/_split.py:657: Warning: The least populated class in y has only 2 members, which is too few. The minimum number of members in any class cannot be less than n_splits=10.\n",
      "  % (min_groups, self.n_splits)), Warning)\n",
      "/Users/zhuoyuanzhang/anaconda3/lib/python3.7/site-packages/sklearn/model_selection/_search.py:814: DeprecationWarning: The default of the `iid` parameter will change from True to False in version 0.22 and will be removed in 0.24. This will change numeric results when test-set sizes are unequal.\n",
      "  DeprecationWarning)\n"
     ]
    },
    {
     "name": "stdout",
     "output_type": "stream",
     "text": [
      "Best CV params {'C': 10, 'gamma': 0.1}\n",
      "Best CV accuracy 0.40294117647058825\n",
      "Test accurarcy of best grid search hypers: 0.825\n"
     ]
    }
   ],
   "source": [
    "svm = SVC()\n",
    "svm.fit(X_train_multi,y_train_multi)\n",
    "parameters ={'C':[0.1,1,5,10],'gamma':[0.00001,0.0001,0.001,0.01,0.1]}\n",
    "searcher = GridSearchCV(svm,parameters,cv=10)\n",
    "searcher.fit(X_train_multi,y_train_multi)\n",
    "print('Best CV params',searcher.best_params_)\n",
    "print('Best CV accuracy',searcher.best_score_)\n",
    "print('Test accurarcy of best grid search hypers:',searcher.score(X_train_multi,y_train_multi))"
   ]
  },
  {
   "cell_type": "code",
   "execution_count": 85,
   "metadata": {},
   "outputs": [
    {
     "data": {
      "text/plain": [
       "0.4441176470588235"
      ]
     },
     "execution_count": 85,
     "metadata": {},
     "output_type": "execute_result"
    }
   ],
   "source": [
    "svc_tuned_multi = SVC(C=10, gamma=0.1)\n",
    "svc_tuned_multi.fit(X_train_multi,y_train_multi)\n",
    "y_pred_svc_tuned_multi = svc_tuned_multi.predict(X_test_multi)\n",
    "accuracy_score(y_pred_svc_tuned_multi, y_test_multi)"
   ]
  },
  {
   "cell_type": "markdown",
   "metadata": {},
   "source": [
    "### KNN"
   ]
  },
  {
   "cell_type": "code",
   "execution_count": 102,
   "metadata": {},
   "outputs": [
    {
     "name": "stdout",
     "output_type": "stream",
     "text": [
      "0.3264705882352941\n"
     ]
    }
   ],
   "source": [
    "knn_multi = KNeighborsClassifier(n_neighbors=5)\n",
    "knn_multi.fit(X_train_multi,y_train_multi)\n",
    "y_pred_knn_multi = knn_multi.predict(X_test_multi)\n",
    "knn_acc_multi=accuracy_score(y_pred_knn_multi,y_test_multi)\n",
    "print(knn_acc_multi)"
   ]
  },
  {
   "cell_type": "code",
   "execution_count": 103,
   "metadata": {},
   "outputs": [
    {
     "name": "stderr",
     "output_type": "stream",
     "text": [
      "/Users/zhuoyuanzhang/anaconda3/lib/python3.7/site-packages/sklearn/svm/base.py:193: FutureWarning: The default value of gamma will change from 'auto' to 'scale' in version 0.22 to account better for unscaled features. Set gamma explicitly to 'auto' or 'scale' to avoid this warning.\n",
      "  \"avoid this warning.\", FutureWarning)\n",
      "/Users/zhuoyuanzhang/anaconda3/lib/python3.7/site-packages/sklearn/model_selection/_split.py:657: Warning: The least populated class in y has only 2 members, which is too few. The minimum number of members in any class cannot be less than n_splits=10.\n",
      "  % (min_groups, self.n_splits)), Warning)\n"
     ]
    },
    {
     "name": "stdout",
     "output_type": "stream",
     "text": [
      "Best CV params {'n_neighbors': 2}\n",
      "Best CV accuracy 0.3735294117647059\n",
      "Test accurarcy of best grid search hypers: 0.7345588235294118\n"
     ]
    },
    {
     "name": "stderr",
     "output_type": "stream",
     "text": [
      "/Users/zhuoyuanzhang/anaconda3/lib/python3.7/site-packages/sklearn/model_selection/_search.py:814: DeprecationWarning: The default of the `iid` parameter will change from True to False in version 0.22 and will be removed in 0.24. This will change numeric results when test-set sizes are unequal.\n",
      "  DeprecationWarning)\n"
     ]
    }
   ],
   "source": [
    "knn_tuned_multi = KNeighborsClassifier()\n",
    "svm.fit(X_train_multi,y_train_multi)\n",
    "parameters ={'n_neighbors':[2,3,4,5,6,7,8,9]}\n",
    "gs_knn_multi = GridSearchCV(knn_tuned_multi,parameters,cv=10)\n",
    "gs_knn_multi.fit(X_train_multi,y_train_multi)\n",
    "print('Best CV params',gs_knn_multi.best_params_)\n",
    "print('Best CV accuracy',gs_knn_multi.best_score_)\n",
    "print('Test accurarcy of best grid search hypers:',gs_knn_multi.score(X_train_multi,y_train_multi))"
   ]
  },
  {
   "cell_type": "markdown",
   "metadata": {},
   "source": [
    "### RandomForest"
   ]
  },
  {
   "cell_type": "code",
   "execution_count": 71,
   "metadata": {},
   "outputs": [],
   "source": [
    "param_grid = {\n",
    "                 'n_estimators': [20,25,30,35,40,45,50],\n",
    "                 'max_depth': [12, 13, 14, 15, 16, 17],\n",
    "                'criterion':['gini','entropy']\n",
    "             }"
   ]
  },
  {
   "cell_type": "code",
   "execution_count": 72,
   "metadata": {},
   "outputs": [],
   "source": [
    "from sklearn.ensemble import RandomForestClassifier"
   ]
  },
  {
   "cell_type": "code",
   "execution_count": 73,
   "metadata": {},
   "outputs": [
    {
     "name": "stderr",
     "output_type": "stream",
     "text": [
      "/Users/zhuoyuanzhang/anaconda3/lib/python3.7/site-packages/sklearn/model_selection/_split.py:657: Warning: The least populated class in y has only 2 members, which is too few. The minimum number of members in any class cannot be less than n_splits=10.\n",
      "  % (min_groups, self.n_splits)), Warning)\n",
      "/Users/zhuoyuanzhang/anaconda3/lib/python3.7/site-packages/sklearn/model_selection/_search.py:814: DeprecationWarning: The default of the `iid` parameter will change from True to False in version 0.22 and will be removed in 0.24. This will change numeric results when test-set sizes are unequal.\n",
      "  DeprecationWarning)\n"
     ]
    },
    {
     "name": "stdout",
     "output_type": "stream",
     "text": [
      "Tuned Random Forest Parameter: {'criterion': 'entropy', 'max_depth': 15, 'n_estimators': 50}\n",
      "Tuned Random Forest Accuracy: 0.6154411764705883\n"
     ]
    }
   ],
   "source": [
    "rf = RandomForestClassifier()\n",
    "grid_rf = GridSearchCV(rf, param_grid,cv = 10)\n",
    "grid_rf.fit(X_train_multi, y_train_multi)\n",
    "print(\"Tuned Random Forest Parameter: {}\".format(grid_rf.best_params_))\n",
    "print(\"Tuned Random Forest Accuracy: {}\".format(grid_rf.best_score_))"
   ]
  },
  {
   "cell_type": "code",
   "execution_count": 69,
   "metadata": {},
   "outputs": [
    {
     "data": {
      "text/plain": [
       "{'max_depth': 16, 'n_estimators': 50}"
      ]
     },
     "execution_count": 69,
     "metadata": {},
     "output_type": "execute_result"
    }
   ],
   "source": [
    "grid_rf.best_params_"
   ]
  }
 ],
 "metadata": {
  "kernelspec": {
   "display_name": "Python 3",
   "language": "python",
   "name": "python3"
  },
  "language_info": {
   "codemirror_mode": {
    "name": "ipython",
    "version": 3
   },
   "file_extension": ".py",
   "mimetype": "text/x-python",
   "name": "python",
   "nbconvert_exporter": "python",
   "pygments_lexer": "ipython3",
   "version": "3.7.1"
  }
 },
 "nbformat": 4,
 "nbformat_minor": 2
}
